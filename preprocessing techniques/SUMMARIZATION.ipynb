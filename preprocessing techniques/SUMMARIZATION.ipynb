{
  "nbformat": 4,
  "nbformat_minor": 0,
  "metadata": {
    "colab": {
      "name": "SUMMARIZATION.ipynb",
      "provenance": [],
      "collapsed_sections": []
    },
    "kernelspec": {
      "name": "python3",
      "display_name": "Python 3"
    }
  },
  "cells": [
    {
      "cell_type": "markdown",
      "metadata": {
        "id": "zjyUK802FUY_"
      },
      "source": [
        " # Exercice 1: Text Summarization using Gensim and Sumy"
      ]
    },
    {
      "cell_type": "markdown",
      "metadata": {
        "id": "DVgktufJF024"
      },
      "source": [
        "## Q1 : "
      ]
    },
    {
      "cell_type": "markdown",
      "metadata": {
        "id": "_fqhUakMF_52"
      },
      "source": [
        "----\n",
        "\n",
        "Using from gensim.summarization import keywords, return 4 keywords for each document : \n",
        "\n",
        "----"
      ]
    },
    {
      "cell_type": "code",
      "metadata": {
        "colab": {
          "base_uri": "https://localhost:8080/"
        },
        "id": "8MAVQ3v24475",
        "outputId": "04af3eb9-d8e1-46de-a013-696e744df9c9"
      },
      "source": [
        "from nltk.corpus import brown\n",
        "import nltk\n",
        "nltk.download('brown')"
      ],
      "execution_count": null,
      "outputs": [
        {
          "output_type": "stream",
          "text": [
            "[nltk_data] Downloading package brown to /root/nltk_data...\n",
            "[nltk_data]   Unzipping corpora/brown.zip.\n"
          ],
          "name": "stdout"
        },
        {
          "output_type": "execute_result",
          "data": {
            "text/plain": [
              "True"
            ]
          },
          "metadata": {
            "tags": []
          },
          "execution_count": 1
        }
      ]
    },
    {
      "cell_type": "code",
      "metadata": {
        "id": "v48buCdI5yVS"
      },
      "source": [
        "brown_data = []\n",
        " \n",
        "for fileid in brown.fileids():\n",
        "    document = ' '.join(brown.words(fileid))\n",
        "    brown_data.append(document)"
      ],
      "execution_count": null,
      "outputs": []
    },
    {
      "cell_type": "code",
      "metadata": {
        "id": "xA8eaR0c6WA4"
      },
      "source": [
        "from gensim.summarization import keywords"
      ],
      "execution_count": null,
      "outputs": []
    },
    {
      "cell_type": "code",
      "metadata": {
        "id": "I0pucNGY6szA"
      },
      "source": [
        "keywords_docs = []\n",
        "for doc in brown_data:\n",
        "  keywords_docs.append(keywords(doc).split('\\n')[:4])"
      ],
      "execution_count": null,
      "outputs": []
    },
    {
      "cell_type": "code",
      "metadata": {
        "colab": {
          "base_uri": "https://localhost:8080/"
        },
        "id": "EVfwE94l6arg",
        "outputId": "9628d544-ae4f-4241-bfbe-6e2d23c541bf"
      },
      "source": [
        "print(\"the 4 keywords for the first document is  : \\n\\n\", keywords_docs[0])"
      ],
      "execution_count": null,
      "outputs": [
        {
          "output_type": "stream",
          "text": [
            "the 4 keywords for the first document is  : \n",
            "\n",
            " ['elected', 'county', 'counties', 'jury said']\n"
          ],
          "name": "stdout"
        }
      ]
    },
    {
      "cell_type": "markdown",
      "metadata": {
        "id": "R4gxK-FVGZy3"
      },
      "source": [
        "## Q 2 : "
      ]
    },
    {
      "cell_type": "markdown",
      "metadata": {
        "id": "Fe6nNaD4Gd84"
      },
      "source": [
        "----\n",
        "\n",
        "Using the TextRank algorithm implementation under gensim:\n",
        "(from gensim.summarization.summarizer import summarize), give a summary\n",
        "for each document. The length of the abstract should be 20% of the size of the\n",
        "document.\n",
        "\n",
        "----"
      ]
    },
    {
      "cell_type": "code",
      "metadata": {
        "id": "NSq12h7c7ujB"
      },
      "source": [
        "from gensim.summarization.summarizer import summarize"
      ],
      "execution_count": null,
      "outputs": []
    },
    {
      "cell_type": "code",
      "metadata": {
        "colab": {
          "base_uri": "https://localhost:8080/",
          "height": 137
        },
        "id": "iKmcd8xg8QYg",
        "outputId": "56172c48-b75c-4843-ccb3-08aea5230582"
      },
      "source": [
        "summarize(brown_data[0], ratio=0.2, word_count=None, split=False)"
      ],
      "execution_count": null,
      "outputs": [
        {
          "output_type": "execute_result",
          "data": {
            "application/vnd.google.colaboratory.intrinsic+json": {
              "type": "string"
            },
            "text/plain": [
              "\"The Fulton County Grand Jury said Friday an investigation of Atlanta's recent primary election produced `` no evidence '' that any irregularities took place .\\nThe jury further said in term-end presentments that the City Executive Committee , which had over-all charge of the election , `` deserves the praise and thanks of the City of Atlanta '' for the manner in which the election was conducted .\\nThe September-October term jury had been charged by Fulton Superior Court Judge Durwood Pye to investigate reports of possible `` irregularities '' in the hard-fought primary which was won by Mayor-nominate Ivan Allen Jr.\\n. `` Only a relative handful of such reports was received '' , the jury said , `` considering the widespread interest in the election , the number of voters and the size of this city '' .\\nThe jury said it did find that many of Georgia's registration and election laws `` are outmoded or inadequate and often ambiguous '' .\\nThe grand jury commented on a number of other topics , among them the Atlanta and Fulton County purchasing departments which it said `` are well operated and follow generally accepted practices which inure to the best interest of both governments '' .\\nThe grand jury took a swipe at the State Welfare Department's handling of federal funds granted for child welfare services in foster homes .\\n`` This is one of the major items in the Fulton County general assistance program '' , the jury said , but the State Welfare Department `` has seen fit to distribute these funds through the welfare departments of all the counties in the state with the exception of Fulton County , which receives none of this money .\\nNevertheless , `` we feel that in the future Fulton County should receive some portion of these available funds '' , the jurors said .\\n`` These actions should serve to protect in fact and in effect the court's wards from undue costs and its appointed and elected servants from unmeritorious criticisms '' , the jury said .\\nThe largest hurdle the Republicans would have to face is a state law which says that before making a first race , one of two alternative courses must be taken : 1 Five per cent of the voters in each county must sign petitions requesting that the Republicans be allowed to place names of candidates on the general election ballot , or 2 The Republicans must hold a primary under the county unit system -- a system which the party opposes in its platform .\\nSam Caldwell , State Highway Department public relations director , resigned Tuesday to work for Lt. Gov.\\nA Highway Department source said there also is a plan there to issue some $3 million to $4 million worth of Rural Roads Authority bonds for rural road construction work .\\nThe Highway Department source told The Constitution , however , that Vandiver has not been consulted yet about the plans to issue the new rural roads bonds .\\nD. Pelham will offer a resolution Monday in the House to rescind the body's action of Friday in voting itself a $10 per day increase in expense allowances .\\nA veteran Jackson County legislator will ask the Georgia House Monday to back federal aid to education , something it has consistently opposed in the past .\\nRep. Mac Barber of Commerce is asking the House in a privilege resolution to `` endorse increased federal support for public education , provided that such funds be received and expended '' as state funds .\\n`` This was the coolest , calmest election I ever saw '' , Colquitt Policeman Tom Williams said .\\nDuring the election campaign , both candidates , Davis and Bush , reportedly received anonymous telephone calls .\\nOrdinary Williams said he , too , was subjected to anonymous calls soon after he scheduled the election .\""
            ]
          },
          "metadata": {
            "tags": []
          },
          "execution_count": 15
        }
      ]
    },
    {
      "cell_type": "markdown",
      "metadata": {
        "id": "zL-4ieqKGrCi"
      },
      "source": [
        "## Q 3 : "
      ]
    },
    {
      "cell_type": "markdown",
      "metadata": {
        "id": "W97tdwLoGu4Q"
      },
      "source": [
        "----\n",
        "\n",
        "Using the LexRank algorithm implementation under sumy: (from sumy.summarizers.lex_rank import LexRankSummarizer), give a summary of the document. The summary should contain 3 sentences.\n",
        "\n",
        "----"
      ]
    },
    {
      "cell_type": "code",
      "metadata": {
        "colab": {
          "base_uri": "https://localhost:8080/"
        },
        "id": "Ryrc4FW89bAC",
        "outputId": "ce25b134-a736-4ec5-b0b6-788f1ec3f738"
      },
      "source": [
        "!pip install sumy"
      ],
      "execution_count": null,
      "outputs": [
        {
          "output_type": "stream",
          "text": [
            "Collecting sumy\n",
            "\u001b[?25l  Downloading https://files.pythonhosted.org/packages/61/20/8abf92617ec80a2ebaec8dc1646a790fc9656a4a4377ddb9f0cc90bc9326/sumy-0.8.1-py2.py3-none-any.whl (83kB)\n",
            "\u001b[K     |████████████████████████████████| 92kB 4.7MB/s \n",
            "\u001b[?25hCollecting breadability>=0.1.20\n",
            "  Downloading https://files.pythonhosted.org/packages/ad/2d/bb6c9b381e6b6a432aa2ffa8f4afdb2204f1ff97cfcc0766a5b7683fec43/breadability-0.1.20.tar.gz\n",
            "Requirement already satisfied: requests>=2.7.0 in /usr/local/lib/python3.6/dist-packages (from sumy) (2.23.0)\n",
            "Collecting pycountry>=18.2.23\n",
            "\u001b[?25l  Downloading https://files.pythonhosted.org/packages/76/73/6f1a412f14f68c273feea29a6ea9b9f1e268177d32e0e69ad6790d306312/pycountry-20.7.3.tar.gz (10.1MB)\n",
            "\u001b[K     |████████████████████████████████| 10.1MB 10.7MB/s \n",
            "\u001b[?25hRequirement already satisfied: docopt<0.7,>=0.6.1 in /usr/local/lib/python3.6/dist-packages (from sumy) (0.6.2)\n",
            "Requirement already satisfied: nltk>=3.0.2 in /usr/local/lib/python3.6/dist-packages (from sumy) (3.2.5)\n",
            "Requirement already satisfied: chardet in /usr/local/lib/python3.6/dist-packages (from breadability>=0.1.20->sumy) (3.0.4)\n",
            "Requirement already satisfied: lxml>=2.0 in /usr/local/lib/python3.6/dist-packages (from breadability>=0.1.20->sumy) (4.2.6)\n",
            "Requirement already satisfied: idna<3,>=2.5 in /usr/local/lib/python3.6/dist-packages (from requests>=2.7.0->sumy) (2.10)\n",
            "Requirement already satisfied: certifi>=2017.4.17 in /usr/local/lib/python3.6/dist-packages (from requests>=2.7.0->sumy) (2020.12.5)\n",
            "Requirement already satisfied: urllib3!=1.25.0,!=1.25.1,<1.26,>=1.21.1 in /usr/local/lib/python3.6/dist-packages (from requests>=2.7.0->sumy) (1.24.3)\n",
            "Requirement already satisfied: six in /usr/local/lib/python3.6/dist-packages (from nltk>=3.0.2->sumy) (1.15.0)\n",
            "Building wheels for collected packages: breadability, pycountry\n",
            "  Building wheel for breadability (setup.py) ... \u001b[?25l\u001b[?25hdone\n",
            "  Created wheel for breadability: filename=breadability-0.1.20-py2.py3-none-any.whl size=21683 sha256=1e56e6d04271717933fafc253eccfd19dd308f29cf93d4b87c7bf5fe5163ebb5\n",
            "  Stored in directory: /root/.cache/pip/wheels/5a/4d/a1/510b12c5e65e0b2b3ce539b2af66da0fc57571e528924f4a52\n",
            "  Building wheel for pycountry (setup.py) ... \u001b[?25l\u001b[?25hdone\n",
            "  Created wheel for pycountry: filename=pycountry-20.7.3-py2.py3-none-any.whl size=10746863 sha256=90bbe8cb49334f2c892527d5c947ca08cd3d5632419825219ae953df68a5b9bc\n",
            "  Stored in directory: /root/.cache/pip/wheels/33/4e/a6/be297e6b83567e537bed9df4a93f8590ec01c1acfbcd405348\n",
            "Successfully built breadability pycountry\n",
            "Installing collected packages: breadability, pycountry, sumy\n",
            "Successfully installed breadability-0.1.20 pycountry-20.7.3 sumy-0.8.1\n"
          ],
          "name": "stdout"
        }
      ]
    },
    {
      "cell_type": "code",
      "metadata": {
        "colab": {
          "base_uri": "https://localhost:8080/"
        },
        "id": "Ti4DyE9F85qQ",
        "outputId": "43256ef2-5c6c-4b50-9116-39eb575b7b25"
      },
      "source": [
        "from sumy.summarizers.lex_rank import LexRankSummarizer \n",
        "# Importing the parser and tokenizer\n",
        "from sumy.parsers.plaintext import PlaintextParser\n",
        "from sumy.nlp.tokenizers import Tokenizer\n",
        "import nltk\n",
        "nltk.download('punkt')"
      ],
      "execution_count": null,
      "outputs": [
        {
          "output_type": "stream",
          "text": [
            "[nltk_data] Downloading package punkt to /root/nltk_data...\n",
            "[nltk_data]   Unzipping tokenizers/punkt.zip.\n"
          ],
          "name": "stdout"
        },
        {
          "output_type": "execute_result",
          "data": {
            "text/plain": [
              "True"
            ]
          },
          "metadata": {
            "tags": []
          },
          "execution_count": 27
        }
      ]
    },
    {
      "cell_type": "code",
      "metadata": {
        "id": "mMiUEisE9aFg"
      },
      "source": [
        "#Summarize the document with 3 sentences\n",
        "summarizer = LexRankSummarizer()\n",
        "my_parser = PlaintextParser.from_string(brown_data[0],Tokenizer('english'))\n",
        "summary = summarizer(my_parser.document, 3) "
      ],
      "execution_count": null,
      "outputs": []
    },
    {
      "cell_type": "code",
      "metadata": {
        "colab": {
          "base_uri": "https://localhost:8080/"
        },
        "id": "bD0KXocp_l68",
        "outputId": "a8bc668b-dff3-4c51-ec09-0ea9bb383cba"
      },
      "source": [
        "summary"
      ],
      "execution_count": null,
      "outputs": [
        {
          "output_type": "execute_result",
          "data": {
            "text/plain": [
              "(<Sentence: The jury further said in term-end presentments that the City Executive Committee , which had over-all charge of the election , `` deserves the praise and thanks of the City of Atlanta '' for the manner in which the election was conducted .>,\n",
              " <Sentence: `` This is one of the major items in the Fulton County general assistance program '' , the jury said , but the State Welfare Department `` has seen fit to distribute these funds through the welfare departments of all the counties in the state with the exception of Fulton County , which receives none of this money .>,\n",
              " <Sentence: A Highway Department source said there also is a plan there to issue some $3 million to $4 million worth of Rural Roads Authority bonds for rural road construction work .>)"
            ]
          },
          "metadata": {
            "tags": []
          },
          "execution_count": 29
        }
      ]
    },
    {
      "cell_type": "markdown",
      "metadata": {
        "id": "kckJ1NJKG4Ej"
      },
      "source": [
        "## EXO 2 : Automatic Text Summarization Evaluation"
      ]
    },
    {
      "cell_type": "code",
      "metadata": {
        "colab": {
          "base_uri": "https://localhost:8080/"
        },
        "id": "uvFRoKGrHCos",
        "outputId": "d19ca034-6011-49b1-93c6-b3c1f0ea5f57"
      },
      "source": [
        "# importing required modules  \n",
        "import PyPDF2  \n",
        "    \n",
        "# creating a pdf file object  \n",
        "pdfFileObj = open('/content/2004.08795.pdf', 'rb')  \n",
        "    \n",
        "# creating a pdf reader object  \n",
        "pdfReader = PyPDF2.PdfFileReader(pdfFileObj)  \n",
        "    \n",
        "# printing number of pages in pdf file  \n",
        "print(pdfReader.numPages)  \n",
        "    \n",
        "# creating a page object  \n",
        "pageObj = pdfReader.getNamedDestinations()\n",
        "    \n",
        "# extracting text from page  \n",
        "print(pageObj)  \n",
        "    \n",
        "# closing the pdf file object  \n",
        " "
      ],
      "execution_count": null,
      "outputs": [
        {
          "output_type": "stream",
          "text": [
            "12\n",
            "{'Def.1': {'/Title': 'Def.1', '/Page': IndirectObject(186, 0), '/Type': '/XYZ', '/Left': 481.121, '/Top': 447.104, '/Zoom': <PyPDF2.generic.NullObject object at 0x7fe7dcb64898>}, 'Def.2': {'/Title': 'Def.2', '/Page': IndirectObject(186, 0), '/Type': '/XYZ', '/Left': 431.496, '/Top': 296.656, '/Zoom': <PyPDF2.generic.NullObject object at 0x7fe7dcb649e8>}, 'Doc-Start': {'/Title': 'Doc-Start', '/Page': IndirectObject(3, 0), '/Type': '/XYZ', '/Left': 72, '/Top': 637.349, '/Zoom': <PyPDF2.generic.NullObject object at 0x7fe7dcb64a58>}, 'Hfootnote.1': {'/Title': 'Hfootnote.1', '/Page': IndirectObject(3, 0), '/Type': '/Fit'}, 'Hfootnote.2': {'/Title': 'Hfootnote.2', '/Page': IndirectObject(3, 0), '/Type': '/Fit'}, 'Hfootnote.3': {'/Title': 'Hfootnote.3', '/Page': IndirectObject(131, 0), '/Type': '/XYZ', '/Left': 323.415, '/Top': 88.887, '/Zoom': <PyPDF2.generic.NullObject object at 0x7fe7dcb64ac8>}, 'Hfootnote.4': {'/Title': 'Hfootnote.4', '/Page': IndirectObject(186, 0), '/Type': '/XYZ', '/Left': 323.415, '/Top': 129.649, '/Zoom': <PyPDF2.generic.NullObject object at 0x7fe7dcb64c88>}, 'Hfootnote.5': {'/Title': 'Hfootnote.5', '/Page': IndirectObject(186, 0), '/Type': '/XYZ', '/Left': 323.415, '/Top': 108.812, '/Zoom': <PyPDF2.generic.NullObject object at 0x7fe7dcb64d68>}, 'Hfootnote.6': {'/Title': 'Hfootnote.6', '/Page': IndirectObject(405, 0), '/Type': '/XYZ', '/Left': 88.139, '/Top': 128.737, '/Zoom': <PyPDF2.generic.NullObject object at 0x7fe7dcb64dd8>}, 'cite.DBLP:conf/acl/FabbriLSLR19': {'/Title': 'cite.DBLP:conf/acl/FabbriLSLR19', '/Page': IndirectObject(501, 0), '/Type': '/XYZ', '/Left': 302.294, '/Top': 606.444, '/Zoom': <PyPDF2.generic.NullObject object at 0x7fe7dcb64e48>}, 'cite.Zhang2019HIBERTDL': {'/Title': 'cite.Zhang2019HIBERTDL', '/Page': IndirectObject(511, 0), '/Type': '/XYZ', '/Left': 67.019, '/Top': 449.318, '/Zoom': <PyPDF2.generic.NullObject object at 0x7fe7dcb64eb8>}, 'cite.alyguliyev2009two': {'/Title': 'cite.alyguliyev2009two', '/Page': IndirectObject(501, 0), '/Type': '/XYZ', '/Left': 67.019, '/Top': 507.026, '/Zoom': <PyPDF2.generic.NullObject object at 0x7fe7dcb64f28>}, 'cite.arumae2018reinforced': {'/Title': 'cite.arumae2018reinforced', '/Page': IndirectObject(501, 0), '/Type': '/XYZ', '/Left': 67.019, '/Top': 466.726, '/Zoom': <PyPDF2.generic.NullObject object at 0x7fe7dcb64fd0>}, 'cite.bae2019summary': {'/Title': 'cite.bae2019summary', '/Page': IndirectObject(501, 0), '/Type': '/XYZ', '/Left': 67.019, '/Top': 415.467, '/Zoom': <PyPDF2.generic.NullObject object at 0x7fe7dcb6d198>}, 'cite.bromley1994signature': {'/Title': 'cite.bromley1994signature', '/Page': IndirectObject(501, 0), '/Type': '/XYZ', '/Left': 67.019, '/Top': 353.249, '/Zoom': <PyPDF2.generic.NullObject object at 0x7fe7dcb6d208>}, 'cite.chen2018fast': {'/Title': 'cite.chen2018fast', '/Page': IndirectObject(501, 0), '/Type': '/XYZ', '/Left': 67.019, '/Top': 291.031, '/Zoom': <PyPDF2.generic.NullObject object at 0x7fe7dcb6d278>}, 'cite.cheng2016neural': {'/Title': 'cite.cheng2016neural', '/Page': IndirectObject(501, 0), '/Type': '/XYZ', '/Left': 67.019, '/Top': 228.813, '/Zoom': <PyPDF2.generic.NullObject object at 0x7fe7dcb6d2e8>}, 'cite.cohan2018discourse': {'/Title': 'cite.cohan2018discourse', '/Page': IndirectObject(501, 0), '/Type': '/XYZ', '/Left': 67.019, '/Top': 166.595, '/Zoom': <PyPDF2.generic.NullObject object at 0x7fe7dcb6d358>}, 'cite.devlin2019bert': {'/Title': 'cite.devlin2019bert', '/Page': IndirectObject(501, 0), '/Type': '/XYZ', '/Left': 302.294, '/Top': 779.082, '/Zoom': <PyPDF2.generic.NullObject object at 0x7fe7dcb6d518>}, 'cite.dong2018banditsum': {'/Title': 'cite.dong2018banditsum', '/Page': IndirectObject(501, 0), '/Type': '/XYZ', '/Left': 302.294, '/Top': 681.804, '/Zoom': <PyPDF2.generic.NullObject object at 0x7fe7dcb6d588>}, 'cite.galanis2010extractive': {'/Title': 'cite.galanis2010extractive', '/Page': IndirectObject(501, 0), '/Type': '/XYZ', '/Left': 302.294, '/Top': 531.084, '/Zoom': <PyPDF2.generic.NullObject object at 0x7fe7dcb6d5f8>}, 'cite.gillick2009scalable': {'/Title': 'cite.gillick2009scalable', '/Page': IndirectObject(501, 0), '/Type': '/XYZ', '/Left': 302.294, '/Top': 444.765, '/Zoom': <PyPDF2.generic.NullObject object at 0x7fe7dcb6d668>}, 'cite.hermann2015teaching': {'/Title': 'cite.hermann2015teaching', '/Page': IndirectObject(501, 0), '/Type': '/XYZ', '/Left': 302.294, '/Top': 391.323, '/Zoom': <PyPDF2.generic.NullObject object at 0x7fe7dcb6d6d8>}, 'cite.hoffer2015deep': {'/Title': 'cite.hoffer2015deep', '/Page': IndirectObject(501, 0), '/Type': '/XYZ', '/Left': 302.294, '/Top': 326.922, '/Zoom': <PyPDF2.generic.NullObject object at 0x7fe7dcb6d748>}, 'cite.jadhav2018extractive': {'/Title': 'cite.jadhav2018extractive', '/Page': IndirectObject(501, 0), '/Type': '/XYZ', '/Left': 302.294, '/Top': 273.48, '/Zoom': <PyPDF2.generic.NullObject object at 0x7fe7dcb6d908>}, 'cite.kim2019abstractive': {'/Title': 'cite.kim2019abstractive', '/Page': IndirectObject(501, 0), '/Type': '/XYZ', '/Left': 302.294, '/Top': 198.12, '/Zoom': <PyPDF2.generic.NullObject object at 0x7fe7dcb6d978>}, 'cite.kingma2014adam': {'/Title': 'cite.kingma2014adam', '/Page': IndirectObject(501, 0), '/Type': '/XYZ', '/Left': 302.294, '/Top': 111.801, '/Zoom': <PyPDF2.generic.NullObject object at 0x7fe7dcb6d9e8>}, 'cite.koupaee2018wikihow': {'/Title': 'cite.koupaee2018wikihow', '/Page': IndirectObject(507, 0), '/Type': '/XYZ', '/Left': 67.019, '/Top': 779.082, '/Zoom': <PyPDF2.generic.NullObject object at 0x7fe7dcb6da58>}, 'cite.lebanoff2019scoring': {'/Title': 'cite.lebanoff2019scoring', '/Page': IndirectObject(507, 0), '/Type': '/XYZ', '/Left': 67.019, '/Top': 736.463, '/Zoom': <PyPDF2.generic.NullObject object at 0x7fe7dcb6dac8>}, 'cite.lin2003automatic': {'/Title': 'cite.lin2003automatic', '/Page': IndirectObject(507, 0), '/Type': '/XYZ', '/Left': 67.019, '/Top': 671.927, '/Zoom': <PyPDF2.generic.NullObject object at 0x7fe7dcb6db38>}, 'cite.liu2019fine': {'/Title': 'cite.liu2019fine', '/Page': IndirectObject(507, 0), '/Type': '/XYZ', '/Left': 67.019, '/Top': 596.432, '/Zoom': <PyPDF2.generic.NullObject object at 0x7fe7dcb6dcc0>}, 'cite.liu2019roberta': {'/Title': 'cite.liu2019roberta', '/Page': IndirectObject(507, 0), '/Type': '/XYZ', '/Left': 67.019, '/Top': 489.277, '/Zoom': <PyPDF2.generic.NullObject object at 0x7fe7dcb6dd68>}, 'cite.liu2019text': {'/Title': 'cite.liu2019text', '/Page': IndirectObject(507, 0), '/Type': '/XYZ', '/Left': 67.019, '/Top': 564.772, '/Zoom': <PyPDF2.generic.NullObject object at 0x7fe7dcb6ddd8>}, 'cite.mendes2019jointly': {'/Title': 'cite.mendes2019jointly', '/Page': IndirectObject(507, 0), '/Type': '/XYZ', '/Left': 67.019, '/Top': 424.741, '/Zoom': <PyPDF2.generic.NullObject object at 0x7fe7dcb6de48>}, 'cite.miao2016language': {'/Title': 'cite.miao2016language', '/Page': IndirectObject(507, 0), '/Type': '/XYZ', '/Left': 67.019, '/Top': 327.328, '/Zoom': <PyPDF2.generic.NullObject object at 0x7fe7dcb6deb8>}, 'cite.mitra2017learning': {'/Title': 'cite.mitra2017learning', '/Page': IndirectObject(507, 0), '/Type': '/XYZ', '/Left': 67.019, '/Top': 262.791, '/Zoom': <PyPDF2.generic.NullObject object at 0x7fe7dcb6df28>}, 'cite.nallapati2016abstractive': {'/Title': 'cite.nallapati2016abstractive', '/Page': IndirectObject(507, 0), '/Type': '/XYZ', '/Left': 67.019, '/Top': 122.76, '/Zoom': <PyPDF2.generic.NullObject object at 0x7fe7dcb76278>}, 'cite.nallapati2017summarunner': {'/Title': 'cite.nallapati2017summarunner', '/Page': IndirectObject(507, 0), '/Type': '/XYZ', '/Left': 67.019, '/Top': 187.296, '/Zoom': <PyPDF2.generic.NullObject object at 0x7fe7dcb762e8>}, 'cite.narayan2018don': {'/Title': 'cite.narayan2018don', '/Page': IndirectObject(507, 0), '/Type': '/XYZ', '/Left': 302.294, '/Top': 779.082, '/Zoom': <PyPDF2.generic.NullObject object at 0x7fe7dcb76358>}, 'cite.narayan2018ranking': {'/Title': 'cite.narayan2018ranking', '/Page': IndirectObject(507, 0), '/Type': '/XYZ', '/Left': 302.294, '/Top': 705.778, '/Zoom': <PyPDF2.generic.NullObject object at 0x7fe7dcb763c8>}, 'cite.paulus2017deep': {'/Title': 'cite.paulus2017deep', '/Page': IndirectObject(507, 0), '/Type': '/XYZ', '/Left': 302.294, '/Top': 621.516, '/Zoom': <PyPDF2.generic.NullObject object at 0x7fe7dcb76438>}, 'cite.reimers2019sentence': {'/Title': 'cite.reimers2019sentence', '/Page': IndirectObject(507, 0), '/Type': '/XYZ', '/Left': 302.294, '/Top': 581.089, '/Zoom': <PyPDF2.generic.NullObject object at 0x7fe7dcb764a8>}, 'cite.severyn2015learning': {'/Title': 'cite.severyn2015learning', '/Page': IndirectObject(507, 0), '/Type': '/XYZ', '/Left': 302.294, '/Top': 496.827, '/Zoom': <PyPDF2.generic.NullObject object at 0x7fe7dcb765f8>}, 'cite.vaswani2017attention': {'/Title': 'cite.vaswani2017attention', '/Page': IndirectObject(507, 0), '/Type': '/XYZ', '/Left': 302.294, '/Top': 423.523, '/Zoom': <PyPDF2.generic.NullObject object at 0x7fe7dcb766d8>}, 'cite.wan2015multi': {'/Title': 'cite.wan2015multi', '/Page': IndirectObject(507, 0), '/Type': '/XYZ', '/Left': 302.294, '/Top': 361.179, '/Zoom': <PyPDF2.generic.NullObject object at 0x7fe7dcb76748>}, 'cite.wang2016learning': {'/Title': 'cite.wang2016learning', '/Page': IndirectObject(507, 0), '/Type': '/XYZ', '/Left': 302.294, '/Top': 196.063, '/Zoom': <PyPDF2.generic.NullObject object at 0x7fe7dcb767b8>}, 'cite.wang2017bilateral': {'/Title': 'cite.wang2017bilateral', '/Page': IndirectObject(507, 0), '/Type': '/XYZ', '/Left': 302.294, '/Top': 133.719, '/Zoom': <PyPDF2.generic.NullObject object at 0x7fe7dcb76828>}, 'cite.wang2019exploring': {'/Title': 'cite.wang2019exploring', '/Page': IndirectObject(507, 0), '/Type': '/XYZ', '/Left': 302.294, '/Top': 247.449, '/Zoom': <PyPDF2.generic.NullObject object at 0x7fe7dcb76898>}, 'cite.wang2020heterogeneous': {'/Title': 'cite.wang2020heterogeneous', '/Page': IndirectObject(507, 0), '/Type': '/XYZ', '/Left': 302.294, '/Top': 309.793, '/Zoom': <PyPDF2.generic.NullObject object at 0x7fe7dcb76a58>}, 'cite.xu-durrett-2019-neural': {'/Title': 'cite.xu-durrett-2019-neural', '/Page': IndirectObject(511, 0), '/Type': '/XYZ', '/Left': 67.019, '/Top': 779.082, '/Zoom': <PyPDF2.generic.NullObject object at 0x7fe7dcb76ac8>}, 'cite.xu2019discourse': {'/Title': 'cite.xu2019discourse', '/Page': IndirectObject(511, 0), '/Type': '/XYZ', '/Left': 67.019, '/Top': 704.362, '/Zoom': <PyPDF2.generic.NullObject object at 0x7fe7dcb76b38>}, 'cite.yih2013question': {'/Title': 'cite.yih2013question', '/Page': IndirectObject(511, 0), '/Type': '/XYZ', '/Left': 67.019, '/Top': 651.56, '/Zoom': <PyPDF2.generic.NullObject object at 0x7fe7dcb76ba8>}, 'cite.yogatama2015extractive': {'/Title': 'cite.yogatama2015extractive', '/Page': IndirectObject(511, 0), '/Type': '/XYZ', '/Left': 67.019, '/Top': 576.84, '/Zoom': <PyPDF2.generic.NullObject object at 0x7fe7dcb76c18>}, 'cite.zhang2019pretraining': {'/Title': 'cite.zhang2019pretraining', '/Page': IndirectObject(511, 0), '/Type': '/XYZ', '/Left': 67.019, '/Top': 513.079, '/Zoom': <PyPDF2.generic.NullObject object at 0x7fe7dcb76c88>}, 'cite.zhong2019closer': {'/Title': 'cite.zhong2019closer', '/Page': IndirectObject(511, 0), '/Type': '/XYZ', '/Left': 67.019, '/Top': 321.796, '/Zoom': <PyPDF2.generic.NullObject object at 0x7fe7dcb76da0>}, 'cite.zhong2019searching': {'/Title': 'cite.zhong2019searching', '/Page': IndirectObject(511, 0), '/Type': '/XYZ', '/Left': 67.019, '/Top': 396.516, '/Zoom': <PyPDF2.generic.NullObject object at 0x7fe7dcb76eb8>}, 'cite.zhou2018neural': {'/Title': 'cite.zhou2018neural', '/Page': IndirectObject(511, 0), '/Type': '/XYZ', '/Left': 67.019, '/Top': 268.994, '/Zoom': <PyPDF2.generic.NullObject object at 0x7fe7dcb76f28>}, 'equation.3.1': {'/Title': 'equation.3.1', '/Page': IndirectObject(186, 0), '/Type': '/XYZ', '/Left': 512.823, '/Top': 675.519, '/Zoom': <PyPDF2.generic.NullObject object at 0x7fe7dcb76f98>}, 'equation.3.2': {'/Title': 'equation.3.2', '/Page': IndirectObject(186, 0), '/Type': '/XYZ', '/Left': 512.823, '/Top': 549.18, '/Zoom': <PyPDF2.generic.NullObject object at 0x7fe7dcb01048>}, 'equation.3.3': {'/Title': 'equation.3.3', '/Page': IndirectObject(310, 0), '/Type': '/XYZ', '/Left': 277.548, '/Top': 627.48, '/Zoom': <PyPDF2.generic.NullObject object at 0x7fe7dcb010b8>}, 'equation.3.4': {'/Title': 'equation.3.4', '/Page': IndirectObject(310, 0), '/Type': '/XYZ', '/Left': 277.548, '/Top': 604.316, '/Zoom': <PyPDF2.generic.NullObject object at 0x7fe7dcb01128>}, 'equation.3.5': {'/Title': 'equation.3.5', '/Page': IndirectObject(310, 0), '/Type': '/XYZ', '/Left': 277.548, '/Top': 501.822, '/Zoom': <PyPDF2.generic.NullObject object at 0x7fe7dcb012e8>}, 'equation.3.6': {'/Title': 'equation.3.6', '/Page': IndirectObject(310, 0), '/Type': '/XYZ', '/Left': 277.548, '/Top': 442.589, '/Zoom': <PyPDF2.generic.NullObject object at 0x7fe7dcb01358>}, 'equation.4.10': {'/Title': 'equation.4.10', '/Page': IndirectObject(360, 0), '/Type': '/XYZ', '/Left': 272.093, '/Top': 568.526, '/Zoom': <PyPDF2.generic.NullObject object at 0x7fe7dcb013c8>}, 'equation.4.7': {'/Title': 'equation.4.7', '/Page': IndirectObject(310, 0), '/Type': '/XYZ', '/Left': 512.823, '/Top': 260.42, '/Zoom': <PyPDF2.generic.NullObject object at 0x7fe7dcb01438>}, 'equation.4.8': {'/Title': 'equation.4.8', '/Page': IndirectObject(310, 0), '/Type': '/XYZ', '/Left': 429.445, '/Top': 134.738, '/Zoom': <PyPDF2.generic.NullObject object at 0x7fe7dcb014a8>}, 'equation.4.9': {'/Title': 'equation.4.9', '/Page': IndirectObject(360, 0), '/Type': '/XYZ', '/Left': 277.548, '/Top': 721.648, '/Zoom': <PyPDF2.generic.NullObject object at 0x7fe7dcb01518>}, 'equation.5.11': {'/Title': 'equation.5.11', '/Page': IndirectObject(360, 0), '/Type': '/XYZ', '/Left': 507.369, '/Top': 146.918, '/Zoom': <PyPDF2.generic.NullObject object at 0x7fe7dcb016d8>}, 'equation.5.12': {'/Title': 'equation.5.12', '/Page': IndirectObject(445, 0), '/Type': '/XYZ', '/Left': 272.093, '/Top': 192.091, '/Zoom': <PyPDF2.generic.NullObject object at 0x7fe7dcb01748>}, 'equation.5.13': {'/Title': 'equation.5.13', '/Page': IndirectObject(445, 0), '/Type': '/XYZ', '/Left': 272.093, '/Top': 169.631, '/Zoom': <PyPDF2.generic.NullObject object at 0x7fe7dcb017b8>}, 'equation.5.14': {'/Title': 'equation.5.14', '/Page': IndirectObject(445, 0), '/Type': '/XYZ', '/Left': 507.369, '/Top': 529.192, '/Zoom': <PyPDF2.generic.NullObject object at 0x7fe7dcb01828>}, 'figure.caption.1': {'/Title': 'figure.caption.1', '/Page': IndirectObject(3, 0), '/Type': '/XYZ', '/Left': 307.276, '/Top': 644.124, '/Zoom': <PyPDF2.generic.NullObject object at 0x7fe7dcb01898>}, 'figure.caption.15': {'/Title': 'figure.caption.15', '/Page': IndirectObject(445, 0), '/Type': '/XYZ', '/Left': 72, '/Top': 785.856, '/Zoom': <PyPDF2.generic.NullObject object at 0x7fe7dcb01ba8>}, 'figure.caption.16': {'/Title': 'figure.caption.16', '/Page': IndirectObject(445, 0), '/Type': '/XYZ', '/Left': 72, '/Top': 594.576, '/Zoom': <PyPDF2.generic.NullObject object at 0x7fe7dcb01c18>}, 'figure.caption.5': {'/Title': 'figure.caption.5', '/Page': IndirectObject(227, 0), '/Type': '/XYZ', '/Left': 72, '/Top': 620.277, '/Zoom': <PyPDF2.generic.NullObject object at 0x7fe7dcb01c88>}, 'figure.caption.6': {'/Title': 'figure.caption.6', '/Page': IndirectObject(310, 0), '/Type': '/XYZ', '/Left': 72, '/Top': 785.856, '/Zoom': <PyPDF2.generic.NullObject object at 0x7fe7dcb01cf8>}, 'page.1': {'/Title': 'page.1', '/Page': IndirectObject(3, 0), '/Type': '/XYZ', '/Left': 71, '/Top': 785.063, '/Zoom': <PyPDF2.generic.NullObject object at 0x7fe7dcb01d68>}, 'page.10': {'/Title': 'page.10', '/Page': IndirectObject(501, 0), '/Type': '/XYZ', '/Left': 116.828, '/Top': 785.063, '/Zoom': <PyPDF2.generic.NullObject object at 0x7fe7dcb01dd8>}, 'page.11': {'/Title': 'page.11', '/Page': IndirectObject(507, 0), '/Type': '/XYZ', '/Left': 71, '/Top': 785.063, '/Zoom': <PyPDF2.generic.NullObject object at 0x7fe7dcb01f98>}, 'page.12': {'/Title': 'page.12', '/Page': IndirectObject(511, 0), '/Type': '/XYZ', '/Left': 116.828, '/Top': 785.063, '/Zoom': <PyPDF2.generic.NullObject object at 0x7fe7dcb12048>}, 'page.2': {'/Title': 'page.2', '/Page': IndirectObject(131, 0), '/Type': '/XYZ', '/Left': 116.828, '/Top': 785.063, '/Zoom': <PyPDF2.generic.NullObject object at 0x7fe7dcb120b8>}, 'page.3': {'/Title': 'page.3', '/Page': IndirectObject(186, 0), '/Type': '/XYZ', '/Left': 71, '/Top': 785.063, '/Zoom': <PyPDF2.generic.NullObject object at 0x7fe7dcb12128>}, 'page.4': {'/Title': 'page.4', '/Page': IndirectObject(227, 0), '/Type': '/XYZ', '/Left': 116.828, '/Top': 785.063, '/Zoom': <PyPDF2.generic.NullObject object at 0x7fe7dcb12198>}, 'page.5': {'/Title': 'page.5', '/Page': IndirectObject(310, 0), '/Type': '/XYZ', '/Left': 71, '/Top': 785.063, '/Zoom': <PyPDF2.generic.NullObject object at 0x7fe7dcb12208>}, 'page.6': {'/Title': 'page.6', '/Page': IndirectObject(360, 0), '/Type': '/XYZ', '/Left': 116.828, '/Top': 785.063, '/Zoom': <PyPDF2.generic.NullObject object at 0x7fe7dcb12358>}, 'page.7': {'/Title': 'page.7', '/Page': IndirectObject(405, 0), '/Type': '/XYZ', '/Left': 71, '/Top': 785.063, '/Zoom': <PyPDF2.generic.NullObject object at 0x7fe7dcb12438>}, 'page.8': {'/Title': 'page.8', '/Page': IndirectObject(432, 0), '/Type': '/XYZ', '/Left': 116.828, '/Top': 785.063, '/Zoom': <PyPDF2.generic.NullObject object at 0x7fe7dcb124a8>}, 'page.9': {'/Title': 'page.9', '/Page': IndirectObject(445, 0), '/Type': '/XYZ', '/Left': 71, '/Top': 785.063, '/Zoom': <PyPDF2.generic.NullObject object at 0x7fe7dcb12518>}, 'section*.10': {'/Title': 'section*.10', '/Page': IndirectObject(405, 0), '/Type': '/XYZ', '/Left': 72, '/Top': 220.529, '/Zoom': <PyPDF2.generic.NullObject object at 0x7fe7dcb12588>}, 'section*.13': {'/Title': 'section*.13', '/Page': IndirectObject(405, 0), '/Type': '/XYZ', '/Left': 307.276, '/Top': 160.219, '/Zoom': <PyPDF2.generic.NullObject object at 0x7fe7dcb125f8>}, 'section*.14': {'/Title': 'section*.14', '/Page': IndirectObject(432, 0), '/Type': '/XYZ', '/Left': 72, '/Top': 325.461, '/Zoom': <PyPDF2.generic.NullObject object at 0x7fe7dcb12668>}, 'section*.17': {'/Title': 'section*.17', '/Page': IndirectObject(432, 0), '/Type': '/XYZ', '/Left': 307.276, '/Top': 392.21, '/Zoom': <PyPDF2.generic.NullObject object at 0x7fe7dcb12828>}, 'section*.18': {'/Title': 'section*.18', '/Page': IndirectObject(445, 0), '/Type': '/XYZ', '/Left': 72, '/Top': 267.061, '/Zoom': <PyPDF2.generic.NullObject object at 0x7fe7dcb12898>}, 'section*.19': {'/Title': 'section*.19', '/Page': IndirectObject(501, 0), '/Type': '/XYZ', '/Left': 72, '/Top': 677.77, '/Zoom': <PyPDF2.generic.NullObject object at 0x7fe7dcb12908>}, 'section*.20': {'/Title': 'section*.20', '/Page': IndirectObject(501, 0), '/Type': '/XYZ', '/Left': 72, '/Top': 527.004, '/Zoom': <PyPDF2.generic.NullObject object at 0x7fe7dcb12978>}, 'section*.3': {'/Title': 'section*.3', '/Page': IndirectObject(186, 0), '/Type': '/XYZ', '/Left': 307.276, '/Top': 474.202, '/Zoom': <PyPDF2.generic.NullObject object at 0x7fe7dcb129e8>}, 'section*.4': {'/Title': 'section*.4', '/Page': IndirectObject(186, 0), '/Type': '/XYZ', '/Left': 307.276, '/Top': 323.755, '/Zoom': <PyPDF2.generic.NullObject object at 0x7fe7dcb12a58>}, 'section*.7': {'/Title': 'section*.7', '/Page': IndirectObject(360, 0), '/Type': '/XYZ', '/Left': 72, '/Top': 519.753, '/Zoom': <PyPDF2.generic.NullObject object at 0x7fe7dcb12c18>}, 'section.1': {'/Title': 'section.1', '/Page': IndirectObject(3, 0), '/Type': '/XYZ', '/Left': 72, '/Top': 264.418, '/Zoom': <PyPDF2.generic.NullObject object at 0x7fe7dcb12c88>}, 'section.2': {'/Title': 'section.2', '/Page': IndirectObject(131, 0), '/Type': '/XYZ', '/Left': 307.276, '/Top': 467.645, '/Zoom': <PyPDF2.generic.NullObject object at 0x7fe7dcb12cf8>}, 'section.3': {'/Title': 'section.3', '/Page': IndirectObject(186, 0), '/Type': '/XYZ', '/Left': 72, '/Top': 456.681, '/Zoom': <PyPDF2.generic.NullObject object at 0x7fe7dcb12d68>}, 'section.4': {'/Title': 'section.4', '/Page': IndirectObject(310, 0), '/Type': '/XYZ', '/Left': 72, '/Top': 126.745, '/Zoom': <PyPDF2.generic.NullObject object at 0x7fe7dcb12dd8>}, 'section.5': {'/Title': 'section.5', '/Page': IndirectObject(360, 0), '/Type': '/XYZ', '/Left': 72, '/Top': 171.431, '/Zoom': <PyPDF2.generic.NullObject object at 0x7fe7dcb12e48>}, 'section.6': {'/Title': 'section.6', '/Page': IndirectObject(445, 0), '/Type': '/XYZ', '/Left': 307.276, '/Top': 194.768, '/Zoom': <PyPDF2.generic.NullObject object at 0x7fe7dcb21048>}, 'subfigure.2.1': {'/Title': 'subfigure.2.1', '/Page': IndirectObject(227, 0), '/Type': '/XYZ', '/Left': 72, '/Top': 613.502, '/Zoom': <PyPDF2.generic.NullObject object at 0x7fe7dcb210b8>}, 'subfigure.2.2': {'/Title': 'subfigure.2.2', '/Page': IndirectObject(227, 0), '/Type': '/XYZ', '/Left': 182.497, '/Top': 543.069, '/Zoom': <PyPDF2.generic.NullObject object at 0x7fe7dcb21128>}, 'subfigure.2.3': {'/Title': 'subfigure.2.3', '/Page': IndirectObject(227, 0), '/Type': '/XYZ', '/Left': 74.536, '/Top': 436.779, '/Zoom': <PyPDF2.generic.NullObject object at 0x7fe7dcb21198>}, 'subfigure.2.4': {'/Title': 'subfigure.2.4', '/Page': IndirectObject(227, 0), '/Type': '/XYZ', '/Left': 182.497, '/Top': 436.779, '/Zoom': <PyPDF2.generic.NullObject object at 0x7fe7dcb21208>}, 'subfigure.2.5': {'/Title': 'subfigure.2.5', '/Page': IndirectObject(227, 0), '/Type': '/XYZ', '/Left': 74.536, '/Top': 326.241, '/Zoom': <PyPDF2.generic.NullObject object at 0x7fe7dcb21358>}, 'subfigure.2.6': {'/Title': 'subfigure.2.6', '/Page': IndirectObject(227, 0), '/Type': '/XYZ', '/Left': 182.497, '/Top': 326.241, '/Zoom': <PyPDF2.generic.NullObject object at 0x7fe7dcb21518>}, 'subfigure.4.1': {'/Title': 'subfigure.4.1', '/Page': IndirectObject(445, 0), '/Type': '/XYZ', '/Left': 72, '/Top': 779.082, '/Zoom': <PyPDF2.generic.NullObject object at 0x7fe7dcb21588>}, 'subfigure.4.2': {'/Title': 'subfigure.4.2', '/Page': IndirectObject(445, 0), '/Type': '/XYZ', '/Left': 232.549, '/Top': 687.226, '/Zoom': <PyPDF2.generic.NullObject object at 0x7fe7dcb215f8>}, 'subfigure.4.3': {'/Title': 'subfigure.4.3', '/Page': IndirectObject(445, 0), '/Type': '/XYZ', '/Left': 367.722, '/Top': 687.226, '/Zoom': <PyPDF2.generic.NullObject object at 0x7fe7dcb21668>}, 'subsection.2.1': {'/Title': 'subsection.2.1', '/Page': IndirectObject(131, 0), '/Type': '/XYZ', '/Left': 307.276, '/Top': 446.82, '/Zoom': <PyPDF2.generic.NullObject object at 0x7fe7dcb216d8>}, 'subsection.2.2': {'/Title': 'subsection.2.2', '/Page': IndirectObject(186, 0), '/Type': '/XYZ', '/Left': 72, '/Top': 728.665, '/Zoom': <PyPDF2.generic.NullObject object at 0x7fe7dcb21748>}, 'subsection.3.1': {'/Title': 'subsection.3.1', '/Page': IndirectObject(186, 0), '/Type': '/XYZ', '/Left': 72, '/Top': 122.545, '/Zoom': <PyPDF2.generic.NullObject object at 0x7fe7dcb21908>}, 'subsection.3.2': {'/Title': 'subsection.3.2', '/Page': IndirectObject(186, 0), '/Type': '/XYZ', '/Left': 307.276, '/Top': 210.264, '/Zoom': <PyPDF2.generic.NullObject object at 0x7fe7dcb21978>}, 'subsection.3.3': {'/Title': 'subsection.3.3', '/Page': IndirectObject(227, 0), '/Type': '/XYZ', '/Left': 307.276, '/Top': 241.504, '/Zoom': <PyPDF2.generic.NullObject object at 0x7fe7dcb219e8>}, 'subsection.4.1': {'/Title': 'subsection.4.1', '/Page': IndirectObject(310, 0), '/Type': '/XYZ', '/Left': 307.276, '/Top': 592.714, '/Zoom': <PyPDF2.generic.NullObject object at 0x7fe7dcb21a58>}, 'subsection.4.2': {'/Title': 'subsection.4.2', '/Page': IndirectObject(360, 0), '/Type': '/XYZ', '/Left': 72, '/Top': 532.193, '/Zoom': <PyPDF2.generic.NullObject object at 0x7fe7dcb21ac8>}, 'subsection.5.1': {'/Title': 'subsection.5.1', '/Page': IndirectObject(360, 0), '/Type': '/XYZ', '/Left': 72, '/Top': 148.165, '/Zoom': <PyPDF2.generic.NullObject object at 0x7fe7dcb21b38>}, 'subsection.5.2': {'/Title': 'subsection.5.2', '/Page': IndirectObject(360, 0), '/Type': '/XYZ', '/Left': 307.276, '/Top': 237.598, '/Zoom': <PyPDF2.generic.NullObject object at 0x7fe7dcb21cf8>}, 'subsection.5.3': {'/Title': 'subsection.5.3', '/Page': IndirectObject(405, 0), '/Type': '/XYZ', '/Left': 72, '/Top': 238.81, '/Zoom': <PyPDF2.generic.NullObject object at 0x7fe7dcb21d68>}, 'subsection.5.4': {'/Title': 'subsection.5.4', '/Page': IndirectObject(432, 0), '/Type': '/XYZ', '/Left': 307.276, '/Top': 518.73, '/Zoom': <PyPDF2.generic.NullObject object at 0x7fe7dcb21dd8>}, 'table.caption.11': {'/Title': 'table.caption.11', '/Page': IndirectObject(405, 0), '/Type': '/XYZ', '/Left': 307.276, '/Top': 785.856, '/Zoom': <PyPDF2.generic.NullObject object at 0x7fe7dcb21e48>}, 'table.caption.12': {'/Title': 'table.caption.12', '/Page': IndirectObject(432, 0), '/Type': '/XYZ', '/Left': 72, '/Top': 785.856, '/Zoom': <PyPDF2.generic.NullObject object at 0x7fe7dcb21eb8>}, 'table.caption.2': {'/Title': 'table.caption.2', '/Page': IndirectObject(227, 0), '/Type': '/XYZ', '/Left': 72, '/Top': 785.856, '/Zoom': <PyPDF2.generic.NullObject object at 0x7fe7dcb21f28>}, 'table.caption.8': {'/Title': 'table.caption.8', '/Page': IndirectObject(360, 0), '/Type': '/XYZ', '/Left': 307.276, '/Top': 785.856, '/Zoom': <PyPDF2.generic.NullObject object at 0x7fe7dcb34080>}, 'table.caption.9': {'/Title': 'table.caption.9', '/Page': IndirectObject(405, 0), '/Type': '/XYZ', '/Left': 72, '/Top': 785.856, '/Zoom': <PyPDF2.generic.NullObject object at 0x7fe7dcb340f0>}}\n"
          ],
          "name": "stdout"
        }
      ]
    },
    {
      "cell_type": "code",
      "metadata": {
        "id": "QNipsM-EK4S2"
      },
      "source": [
        "paragraph = \"Abstract\"\n",
        "def abstractExtraction(text,paragraph):\n",
        "\n",
        "    count = 0\n",
        "    para=\"\"\n",
        "    text=text.replace('\\n\\n+', '\\n')\n",
        "    text=text.replace('\\s\\s\\s+', '\\n')\n",
        "    for i in re.split(r'\\n+', text):\n",
        "        p = re.compile('(?<!\\S)'+paragraph, re.IGNORECASE)\n",
        "        p1 = re.compile('abstract')\n",
        "        if(str(p1.match(i)))=='None':\n",
        "            if str(p.match(i))!='None':\n",
        "                count=1\n",
        "            if count == 1:\n",
        "                if str(re.compile('\\d' + '.*' + '\\s*' + 'Introduction', re.IGNORECASE).match(i))!='None':\n",
        "                    return para\n",
        "                elif str(re.compile('X|IV|V?I{0,3}' + '.*' + '\\s*' + 'Introduction', re.IGNORECASE).match(i))!='None':\n",
        "                    return para\n",
        "                else:\n",
        "                    para =para+i\n",
        "                    continue\n",
        "    if(len(para)>1000):\n",
        "        return 'None'\n",
        "    else:\n",
        "        return para"
      ],
      "execution_count": null,
      "outputs": []
    },
    {
      "cell_type": "code",
      "metadata": {
        "id": "n7zzTfQOMExd"
      },
      "source": [
        "abstractExtraction(text,paragraph)"
      ],
      "execution_count": null,
      "outputs": []
    }
  ]
}