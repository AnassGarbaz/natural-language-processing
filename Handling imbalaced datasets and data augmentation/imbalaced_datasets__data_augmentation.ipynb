{
  "nbformat": 4,
  "nbformat_minor": 0,
  "metadata": {
    "colab": {
      "name": "imbalaced datasets_ data augmentation",
      "provenance": [],
      "collapsed_sections": []
    },
    "kernelspec": {
      "name": "python3",
      "display_name": "Python 3"
    }
  },
  "cells": [
    {
      "cell_type": "markdown",
      "metadata": {
        "id": "2j2JW8KBEQ_K"
      },
      "source": [
        "# Imbalaced data : "
      ]
    },
    {
      "cell_type": "markdown",
      "metadata": {
        "id": "yk05p0RwYxeg"
      },
      "source": [
        "## Random over-sampling "
      ]
    },
    {
      "cell_type": "markdown",
      "metadata": {
        "id": "zK-ZvADqZAvq"
      },
      "source": [
        "----\r\n",
        "\r\n",
        "Random over-sampling is simply a process of repeating some samples of the minority class and balance the number of samples between classes in the dataset.\r\n",
        "\r\n",
        "----"
      ]
    },
    {
      "cell_type": "code",
      "metadata": {
        "id": "i_e4ZEDlG8Hd"
      },
      "source": [
        "import pandas as pd"
      ],
      "execution_count": null,
      "outputs": []
    },
    {
      "cell_type": "code",
      "metadata": {
        "id": "zu6wKsMeEcIn"
      },
      "source": [
        "sent1 = \"I love cats\"\r\n",
        "sent2 = \"I don't like cats\"\r\n",
        "sent3 = \"I adore cats\"\r\n",
        "sent4 = \"I hate spiders\"\r\n",
        "sent5 = \"I like dogs\"\r\n",
        "sent6 = \"I like swiming\"\r\n",
        "testing_text = pd.Series([sent1, sent2, sent3, sent4, sent5, sent6])\r\n",
        "testing_target = pd.Series([1,0,1,0,1, 1])"
      ],
      "execution_count": null,
      "outputs": []
    },
    {
      "cell_type": "markdown",
      "metadata": {
        "id": "83VVMVuoHlmO"
      },
      "source": [
        "----\r\n",
        "\r\n",
        "One thing is over sampler won’t be able to handle raw text data. It has to be transformed into a feature space for over sampler to work. I’ll first fit TfidfVectorizer, and oversample using Tf-Idf representation of texts.\r\n",
        "\r\n",
        "----"
      ]
    },
    {
      "cell_type": "code",
      "metadata": {
        "colab": {
          "base_uri": "https://localhost:8080/"
        },
        "id": "yjD8sT-HICgc",
        "outputId": "17997a9c-b7aa-4290-f67c-8c9e04787163"
      },
      "source": [
        "from imblearn.over_sampling import  RandomOverSampler\r\n",
        "from sklearn.feature_extraction.text import  TfidfVectorizer"
      ],
      "execution_count": null,
      "outputs": [
        {
          "output_type": "stream",
          "text": [
            "/usr/local/lib/python3.6/dist-packages/sklearn/externals/six.py:31: FutureWarning: The module is deprecated in version 0.21 and will be removed in version 0.23 since we've dropped support for Python 2.7. Please rely on the official version of six (https://pypi.org/project/six/).\n",
            "  \"(https://pypi.org/project/six/).\", FutureWarning)\n",
            "/usr/local/lib/python3.6/dist-packages/sklearn/utils/deprecation.py:144: FutureWarning: The sklearn.neighbors.base module is  deprecated in version 0.22 and will be removed in version 0.24. The corresponding classes / functions should instead be imported from sklearn.neighbors. Anything that cannot be imported from sklearn.neighbors is now part of the private API.\n",
            "  warnings.warn(message, FutureWarning)\n"
          ],
          "name": "stderr"
        }
      ]
    },
    {
      "cell_type": "code",
      "metadata": {
        "colab": {
          "base_uri": "https://localhost:8080/",
          "height": 289
        },
        "id": "I0hR1o-bHGQr",
        "outputId": "ee358411-7e78-430a-d4d6-4540ceca0887"
      },
      "source": [
        "tv = TfidfVectorizer(stop_words=None, max_features=100000)\r\n",
        "testing_tfidf = tv.fit_transform(testing_text)\r\n",
        "ros = RandomOverSampler(random_state=777)\r\n",
        "X_ROS, y_ROS = ros.fit_sample(testing_tfidf, testing_target)\r\n",
        "pd.DataFrame(testing_tfidf.todense(), columns=tv.get_feature_names())"
      ],
      "execution_count": null,
      "outputs": [
        {
          "output_type": "stream",
          "text": [
            "/usr/local/lib/python3.6/dist-packages/sklearn/utils/deprecation.py:87: FutureWarning: Function safe_indexing is deprecated; safe_indexing is deprecated in version 0.22 and will be removed in version 0.24.\n",
            "  warnings.warn(msg, category=FutureWarning)\n"
          ],
          "name": "stderr"
        },
        {
          "output_type": "execute_result",
          "data": {
            "text/html": [
              "<div>\n",
              "<style scoped>\n",
              "    .dataframe tbody tr th:only-of-type {\n",
              "        vertical-align: middle;\n",
              "    }\n",
              "\n",
              "    .dataframe tbody tr th {\n",
              "        vertical-align: top;\n",
              "    }\n",
              "\n",
              "    .dataframe thead th {\n",
              "        text-align: right;\n",
              "    }\n",
              "</style>\n",
              "<table border=\"1\" class=\"dataframe\">\n",
              "  <thead>\n",
              "    <tr style=\"text-align: right;\">\n",
              "      <th></th>\n",
              "      <th>adore</th>\n",
              "      <th>cats</th>\n",
              "      <th>dogs</th>\n",
              "      <th>don</th>\n",
              "      <th>hate</th>\n",
              "      <th>like</th>\n",
              "      <th>love</th>\n",
              "      <th>spiders</th>\n",
              "      <th>swiming</th>\n",
              "    </tr>\n",
              "  </thead>\n",
              "  <tbody>\n",
              "    <tr>\n",
              "      <th>0</th>\n",
              "      <td>0.00000</td>\n",
              "      <td>0.569213</td>\n",
              "      <td>0.00000</td>\n",
              "      <td>0.000000</td>\n",
              "      <td>0.000000</td>\n",
              "      <td>0.000000</td>\n",
              "      <td>0.82219</td>\n",
              "      <td>0.000000</td>\n",
              "      <td>0.00000</td>\n",
              "    </tr>\n",
              "    <tr>\n",
              "      <th>1</th>\n",
              "      <td>0.00000</td>\n",
              "      <td>0.494686</td>\n",
              "      <td>0.00000</td>\n",
              "      <td>0.714542</td>\n",
              "      <td>0.000000</td>\n",
              "      <td>0.494686</td>\n",
              "      <td>0.00000</td>\n",
              "      <td>0.000000</td>\n",
              "      <td>0.00000</td>\n",
              "    </tr>\n",
              "    <tr>\n",
              "      <th>2</th>\n",
              "      <td>0.82219</td>\n",
              "      <td>0.569213</td>\n",
              "      <td>0.00000</td>\n",
              "      <td>0.000000</td>\n",
              "      <td>0.000000</td>\n",
              "      <td>0.000000</td>\n",
              "      <td>0.00000</td>\n",
              "      <td>0.000000</td>\n",
              "      <td>0.00000</td>\n",
              "    </tr>\n",
              "    <tr>\n",
              "      <th>3</th>\n",
              "      <td>0.00000</td>\n",
              "      <td>0.000000</td>\n",
              "      <td>0.00000</td>\n",
              "      <td>0.000000</td>\n",
              "      <td>0.707107</td>\n",
              "      <td>0.000000</td>\n",
              "      <td>0.00000</td>\n",
              "      <td>0.707107</td>\n",
              "      <td>0.00000</td>\n",
              "    </tr>\n",
              "    <tr>\n",
              "      <th>4</th>\n",
              "      <td>0.00000</td>\n",
              "      <td>0.000000</td>\n",
              "      <td>0.82219</td>\n",
              "      <td>0.000000</td>\n",
              "      <td>0.000000</td>\n",
              "      <td>0.569213</td>\n",
              "      <td>0.00000</td>\n",
              "      <td>0.000000</td>\n",
              "      <td>0.00000</td>\n",
              "    </tr>\n",
              "    <tr>\n",
              "      <th>5</th>\n",
              "      <td>0.00000</td>\n",
              "      <td>0.000000</td>\n",
              "      <td>0.00000</td>\n",
              "      <td>0.000000</td>\n",
              "      <td>0.000000</td>\n",
              "      <td>0.569213</td>\n",
              "      <td>0.00000</td>\n",
              "      <td>0.000000</td>\n",
              "      <td>0.82219</td>\n",
              "    </tr>\n",
              "  </tbody>\n",
              "</table>\n",
              "</div>"
            ],
            "text/plain": [
              "     adore      cats     dogs       don  ...      like     love   spiders  swiming\n",
              "0  0.00000  0.569213  0.00000  0.000000  ...  0.000000  0.82219  0.000000  0.00000\n",
              "1  0.00000  0.494686  0.00000  0.714542  ...  0.494686  0.00000  0.000000  0.00000\n",
              "2  0.82219  0.569213  0.00000  0.000000  ...  0.000000  0.00000  0.000000  0.00000\n",
              "3  0.00000  0.000000  0.00000  0.000000  ...  0.000000  0.00000  0.707107  0.00000\n",
              "4  0.00000  0.000000  0.82219  0.000000  ...  0.569213  0.00000  0.000000  0.00000\n",
              "5  0.00000  0.000000  0.00000  0.000000  ...  0.569213  0.00000  0.000000  0.82219\n",
              "\n",
              "[6 rows x 9 columns]"
            ]
          },
          "metadata": {
            "tags": []
          },
          "execution_count": 7
        }
      ]
    },
    {
      "cell_type": "code",
      "metadata": {
        "colab": {
          "base_uri": "https://localhost:8080/"
        },
        "id": "u-JMAaC8K0xG",
        "outputId": "1d79c8b1-0ea2-40f0-d03a-92f635565d0c"
      },
      "source": [
        "y_ROS"
      ],
      "execution_count": null,
      "outputs": [
        {
          "output_type": "execute_result",
          "data": {
            "text/plain": [
              "array([1, 0, 1, 0, 1, 1, 0, 0])"
            ]
          },
          "metadata": {
            "tags": []
          },
          "execution_count": 8
        }
      ]
    },
    {
      "cell_type": "markdown",
      "metadata": {
        "id": "h4ysVlr1Mp-n"
      },
      "source": [
        "## SMOTE (Synthetic Minority Over-Sampling Technique) : "
      ]
    },
    {
      "cell_type": "markdown",
      "metadata": {
        "id": "HGC71Or6PMBu"
      },
      "source": [
        "----\r\n",
        "\r\n",
        "SMOTE is an over-sampling approach in which the minority class is over-sampled by creating “synthetic” examples rather than by over-sampling with replacement.\r\n",
        "\r\n",
        "-----"
      ]
    },
    {
      "cell_type": "code",
      "metadata": {
        "id": "ViVzpZq5PJpM"
      },
      "source": [
        "from imblearn.over_sampling import SMOTE"
      ],
      "execution_count": null,
      "outputs": []
    },
    {
      "cell_type": "code",
      "metadata": {
        "colab": {
          "base_uri": "https://localhost:8080/",
          "height": 351
        },
        "id": "N0DMPM4NMuO0",
        "outputId": "5e1980ab-0fd9-4ba7-a977-0ed4b8f8edc8"
      },
      "source": [
        "smt = SMOTE(random_state=777, k_neighbors=1)\r\n",
        "X_SMOTE, y_SMOTE = smt.fit_sample(testing_tfidf, testing_target)\r\n",
        "pd.DataFrame(X_SMOTE.todense(), columns=tv.get_feature_names())"
      ],
      "execution_count": null,
      "outputs": [
        {
          "output_type": "stream",
          "text": [
            "/usr/local/lib/python3.6/dist-packages/sklearn/utils/deprecation.py:87: FutureWarning: Function safe_indexing is deprecated; safe_indexing is deprecated in version 0.22 and will be removed in version 0.24.\n",
            "  warnings.warn(msg, category=FutureWarning)\n"
          ],
          "name": "stderr"
        },
        {
          "output_type": "execute_result",
          "data": {
            "text/html": [
              "<div>\n",
              "<style scoped>\n",
              "    .dataframe tbody tr th:only-of-type {\n",
              "        vertical-align: middle;\n",
              "    }\n",
              "\n",
              "    .dataframe tbody tr th {\n",
              "        vertical-align: top;\n",
              "    }\n",
              "\n",
              "    .dataframe thead th {\n",
              "        text-align: right;\n",
              "    }\n",
              "</style>\n",
              "<table border=\"1\" class=\"dataframe\">\n",
              "  <thead>\n",
              "    <tr style=\"text-align: right;\">\n",
              "      <th></th>\n",
              "      <th>adore</th>\n",
              "      <th>cats</th>\n",
              "      <th>dogs</th>\n",
              "      <th>don</th>\n",
              "      <th>hate</th>\n",
              "      <th>like</th>\n",
              "      <th>love</th>\n",
              "      <th>spiders</th>\n",
              "      <th>swiming</th>\n",
              "    </tr>\n",
              "  </thead>\n",
              "  <tbody>\n",
              "    <tr>\n",
              "      <th>0</th>\n",
              "      <td>0.00000</td>\n",
              "      <td>0.569213</td>\n",
              "      <td>0.00000</td>\n",
              "      <td>0.000000</td>\n",
              "      <td>0.000000</td>\n",
              "      <td>0.000000</td>\n",
              "      <td>0.82219</td>\n",
              "      <td>0.000000</td>\n",
              "      <td>0.00000</td>\n",
              "    </tr>\n",
              "    <tr>\n",
              "      <th>1</th>\n",
              "      <td>0.00000</td>\n",
              "      <td>0.494686</td>\n",
              "      <td>0.00000</td>\n",
              "      <td>0.714542</td>\n",
              "      <td>0.000000</td>\n",
              "      <td>0.494686</td>\n",
              "      <td>0.00000</td>\n",
              "      <td>0.000000</td>\n",
              "      <td>0.00000</td>\n",
              "    </tr>\n",
              "    <tr>\n",
              "      <th>2</th>\n",
              "      <td>0.82219</td>\n",
              "      <td>0.569213</td>\n",
              "      <td>0.00000</td>\n",
              "      <td>0.000000</td>\n",
              "      <td>0.000000</td>\n",
              "      <td>0.000000</td>\n",
              "      <td>0.00000</td>\n",
              "      <td>0.000000</td>\n",
              "      <td>0.00000</td>\n",
              "    </tr>\n",
              "    <tr>\n",
              "      <th>3</th>\n",
              "      <td>0.00000</td>\n",
              "      <td>0.000000</td>\n",
              "      <td>0.00000</td>\n",
              "      <td>0.000000</td>\n",
              "      <td>0.707107</td>\n",
              "      <td>0.000000</td>\n",
              "      <td>0.00000</td>\n",
              "      <td>0.707107</td>\n",
              "      <td>0.00000</td>\n",
              "    </tr>\n",
              "    <tr>\n",
              "      <th>4</th>\n",
              "      <td>0.00000</td>\n",
              "      <td>0.000000</td>\n",
              "      <td>0.82219</td>\n",
              "      <td>0.000000</td>\n",
              "      <td>0.000000</td>\n",
              "      <td>0.569213</td>\n",
              "      <td>0.00000</td>\n",
              "      <td>0.000000</td>\n",
              "      <td>0.00000</td>\n",
              "    </tr>\n",
              "    <tr>\n",
              "      <th>5</th>\n",
              "      <td>0.00000</td>\n",
              "      <td>0.000000</td>\n",
              "      <td>0.00000</td>\n",
              "      <td>0.000000</td>\n",
              "      <td>0.000000</td>\n",
              "      <td>0.569213</td>\n",
              "      <td>0.00000</td>\n",
              "      <td>0.000000</td>\n",
              "      <td>0.82219</td>\n",
              "    </tr>\n",
              "    <tr>\n",
              "      <th>6</th>\n",
              "      <td>0.00000</td>\n",
              "      <td>0.149572</td>\n",
              "      <td>0.00000</td>\n",
              "      <td>0.216047</td>\n",
              "      <td>0.493308</td>\n",
              "      <td>0.149572</td>\n",
              "      <td>0.00000</td>\n",
              "      <td>0.493308</td>\n",
              "      <td>0.00000</td>\n",
              "    </tr>\n",
              "    <tr>\n",
              "      <th>7</th>\n",
              "      <td>0.00000</td>\n",
              "      <td>0.030689</td>\n",
              "      <td>0.00000</td>\n",
              "      <td>0.044328</td>\n",
              "      <td>0.663240</td>\n",
              "      <td>0.030689</td>\n",
              "      <td>0.00000</td>\n",
              "      <td>0.663240</td>\n",
              "      <td>0.00000</td>\n",
              "    </tr>\n",
              "  </tbody>\n",
              "</table>\n",
              "</div>"
            ],
            "text/plain": [
              "     adore      cats     dogs       don  ...      like     love   spiders  swiming\n",
              "0  0.00000  0.569213  0.00000  0.000000  ...  0.000000  0.82219  0.000000  0.00000\n",
              "1  0.00000  0.494686  0.00000  0.714542  ...  0.494686  0.00000  0.000000  0.00000\n",
              "2  0.82219  0.569213  0.00000  0.000000  ...  0.000000  0.00000  0.000000  0.00000\n",
              "3  0.00000  0.000000  0.00000  0.000000  ...  0.000000  0.00000  0.707107  0.00000\n",
              "4  0.00000  0.000000  0.82219  0.000000  ...  0.569213  0.00000  0.000000  0.00000\n",
              "5  0.00000  0.000000  0.00000  0.000000  ...  0.569213  0.00000  0.000000  0.82219\n",
              "6  0.00000  0.149572  0.00000  0.216047  ...  0.149572  0.00000  0.493308  0.00000\n",
              "7  0.00000  0.030689  0.00000  0.044328  ...  0.030689  0.00000  0.663240  0.00000\n",
              "\n",
              "[8 rows x 9 columns]"
            ]
          },
          "metadata": {
            "tags": []
          },
          "execution_count": 12
        }
      ]
    },
    {
      "cell_type": "markdown",
      "metadata": {
        "id": "Vty3huK7P_DX"
      },
      "source": [
        "----\r\n",
        "\r\n",
        "The last entry is the data created by SMOTE. To make it easier to see, let’s see only the negative class.\r\n",
        "\r\n",
        "----"
      ]
    },
    {
      "cell_type": "code",
      "metadata": {
        "colab": {
          "base_uri": "https://localhost:8080/",
          "height": 173
        },
        "id": "4fY1jsMMQD3E",
        "outputId": "a02744a1-cee4-4390-b27b-df4a0a300860"
      },
      "source": [
        "pd.DataFrame(X_SMOTE.todense()[y_SMOTE == 0], columns=tv.get_feature_names())"
      ],
      "execution_count": null,
      "outputs": [
        {
          "output_type": "execute_result",
          "data": {
            "text/html": [
              "<div>\n",
              "<style scoped>\n",
              "    .dataframe tbody tr th:only-of-type {\n",
              "        vertical-align: middle;\n",
              "    }\n",
              "\n",
              "    .dataframe tbody tr th {\n",
              "        vertical-align: top;\n",
              "    }\n",
              "\n",
              "    .dataframe thead th {\n",
              "        text-align: right;\n",
              "    }\n",
              "</style>\n",
              "<table border=\"1\" class=\"dataframe\">\n",
              "  <thead>\n",
              "    <tr style=\"text-align: right;\">\n",
              "      <th></th>\n",
              "      <th>adore</th>\n",
              "      <th>cats</th>\n",
              "      <th>dogs</th>\n",
              "      <th>don</th>\n",
              "      <th>hate</th>\n",
              "      <th>like</th>\n",
              "      <th>love</th>\n",
              "      <th>spiders</th>\n",
              "      <th>swiming</th>\n",
              "    </tr>\n",
              "  </thead>\n",
              "  <tbody>\n",
              "    <tr>\n",
              "      <th>0</th>\n",
              "      <td>0.0</td>\n",
              "      <td>0.494686</td>\n",
              "      <td>0.0</td>\n",
              "      <td>0.714542</td>\n",
              "      <td>0.000000</td>\n",
              "      <td>0.494686</td>\n",
              "      <td>0.0</td>\n",
              "      <td>0.000000</td>\n",
              "      <td>0.0</td>\n",
              "    </tr>\n",
              "    <tr>\n",
              "      <th>1</th>\n",
              "      <td>0.0</td>\n",
              "      <td>0.000000</td>\n",
              "      <td>0.0</td>\n",
              "      <td>0.000000</td>\n",
              "      <td>0.707107</td>\n",
              "      <td>0.000000</td>\n",
              "      <td>0.0</td>\n",
              "      <td>0.707107</td>\n",
              "      <td>0.0</td>\n",
              "    </tr>\n",
              "    <tr>\n",
              "      <th>2</th>\n",
              "      <td>0.0</td>\n",
              "      <td>0.149572</td>\n",
              "      <td>0.0</td>\n",
              "      <td>0.216047</td>\n",
              "      <td>0.493308</td>\n",
              "      <td>0.149572</td>\n",
              "      <td>0.0</td>\n",
              "      <td>0.493308</td>\n",
              "      <td>0.0</td>\n",
              "    </tr>\n",
              "    <tr>\n",
              "      <th>3</th>\n",
              "      <td>0.0</td>\n",
              "      <td>0.030689</td>\n",
              "      <td>0.0</td>\n",
              "      <td>0.044328</td>\n",
              "      <td>0.663240</td>\n",
              "      <td>0.030689</td>\n",
              "      <td>0.0</td>\n",
              "      <td>0.663240</td>\n",
              "      <td>0.0</td>\n",
              "    </tr>\n",
              "  </tbody>\n",
              "</table>\n",
              "</div>"
            ],
            "text/plain": [
              "   adore      cats  dogs       don      hate      like  love   spiders  swiming\n",
              "0    0.0  0.494686   0.0  0.714542  0.000000  0.494686   0.0  0.000000      0.0\n",
              "1    0.0  0.000000   0.0  0.000000  0.707107  0.000000   0.0  0.707107      0.0\n",
              "2    0.0  0.149572   0.0  0.216047  0.493308  0.149572   0.0  0.493308      0.0\n",
              "3    0.0  0.030689   0.0  0.044328  0.663240  0.030689   0.0  0.663240      0.0"
            ]
          },
          "metadata": {
            "tags": []
          },
          "execution_count": 13
        }
      ]
    },
    {
      "cell_type": "markdown",
      "metadata": {
        "id": "sZcLfMp3R9fW"
      },
      "source": [
        "## Downsampling"
      ]
    },
    {
      "cell_type": "markdown",
      "metadata": {
        "id": "fc0g5zCoR_bX"
      },
      "source": [
        "---\r\n",
        "If we oversample the minority class in the above oversampling, with downsampling, we try to reduce the data of majority class, so that the data classes are balanced.\r\n",
        "\r\n",
        "---"
      ]
    },
    {
      "cell_type": "markdown",
      "metadata": {
        "id": "It-f2QZxSNci"
      },
      "source": [
        "### RandomUnderSampler\r\n"
      ]
    },
    {
      "cell_type": "code",
      "metadata": {
        "id": "GFItgVEAR8p5"
      },
      "source": [
        "from imblearn.under_sampling import RandomUnderSampler"
      ],
      "execution_count": null,
      "outputs": []
    },
    {
      "cell_type": "code",
      "metadata": {
        "colab": {
          "base_uri": "https://localhost:8080/",
          "height": 227
        },
        "id": "K1BfjTWMScz4",
        "outputId": "0c0a5022-ff8d-45d5-8d83-465028c7ac0a"
      },
      "source": [
        "rus = RandomUnderSampler(random_state=777)\r\n",
        "X_RUS, y_RUS = rus.fit_sample(testing_tfidf, testing_target)\r\n",
        "pd.DataFrame(X_RUS.todense(), columns=tv.get_feature_names())"
      ],
      "execution_count": null,
      "outputs": [
        {
          "output_type": "stream",
          "text": [
            "/usr/local/lib/python3.6/dist-packages/sklearn/utils/deprecation.py:87: FutureWarning: Function safe_indexing is deprecated; safe_indexing is deprecated in version 0.22 and will be removed in version 0.24.\n",
            "  warnings.warn(msg, category=FutureWarning)\n"
          ],
          "name": "stderr"
        },
        {
          "output_type": "execute_result",
          "data": {
            "text/html": [
              "<div>\n",
              "<style scoped>\n",
              "    .dataframe tbody tr th:only-of-type {\n",
              "        vertical-align: middle;\n",
              "    }\n",
              "\n",
              "    .dataframe tbody tr th {\n",
              "        vertical-align: top;\n",
              "    }\n",
              "\n",
              "    .dataframe thead th {\n",
              "        text-align: right;\n",
              "    }\n",
              "</style>\n",
              "<table border=\"1\" class=\"dataframe\">\n",
              "  <thead>\n",
              "    <tr style=\"text-align: right;\">\n",
              "      <th></th>\n",
              "      <th>adore</th>\n",
              "      <th>cats</th>\n",
              "      <th>dogs</th>\n",
              "      <th>don</th>\n",
              "      <th>hate</th>\n",
              "      <th>like</th>\n",
              "      <th>love</th>\n",
              "      <th>spiders</th>\n",
              "      <th>swiming</th>\n",
              "    </tr>\n",
              "  </thead>\n",
              "  <tbody>\n",
              "    <tr>\n",
              "      <th>0</th>\n",
              "      <td>0.00000</td>\n",
              "      <td>0.494686</td>\n",
              "      <td>0.0</td>\n",
              "      <td>0.714542</td>\n",
              "      <td>0.000000</td>\n",
              "      <td>0.494686</td>\n",
              "      <td>0.00000</td>\n",
              "      <td>0.000000</td>\n",
              "      <td>0.0</td>\n",
              "    </tr>\n",
              "    <tr>\n",
              "      <th>1</th>\n",
              "      <td>0.00000</td>\n",
              "      <td>0.000000</td>\n",
              "      <td>0.0</td>\n",
              "      <td>0.000000</td>\n",
              "      <td>0.707107</td>\n",
              "      <td>0.000000</td>\n",
              "      <td>0.00000</td>\n",
              "      <td>0.707107</td>\n",
              "      <td>0.0</td>\n",
              "    </tr>\n",
              "    <tr>\n",
              "      <th>2</th>\n",
              "      <td>0.00000</td>\n",
              "      <td>0.569213</td>\n",
              "      <td>0.0</td>\n",
              "      <td>0.000000</td>\n",
              "      <td>0.000000</td>\n",
              "      <td>0.000000</td>\n",
              "      <td>0.82219</td>\n",
              "      <td>0.000000</td>\n",
              "      <td>0.0</td>\n",
              "    </tr>\n",
              "    <tr>\n",
              "      <th>3</th>\n",
              "      <td>0.82219</td>\n",
              "      <td>0.569213</td>\n",
              "      <td>0.0</td>\n",
              "      <td>0.000000</td>\n",
              "      <td>0.000000</td>\n",
              "      <td>0.000000</td>\n",
              "      <td>0.00000</td>\n",
              "      <td>0.000000</td>\n",
              "      <td>0.0</td>\n",
              "    </tr>\n",
              "  </tbody>\n",
              "</table>\n",
              "</div>"
            ],
            "text/plain": [
              "     adore      cats  dogs       don  ...      like     love   spiders  swiming\n",
              "0  0.00000  0.494686   0.0  0.714542  ...  0.494686  0.00000  0.000000      0.0\n",
              "1  0.00000  0.000000   0.0  0.000000  ...  0.000000  0.00000  0.707107      0.0\n",
              "2  0.00000  0.569213   0.0  0.000000  ...  0.000000  0.82219  0.000000      0.0\n",
              "3  0.82219  0.569213   0.0  0.000000  ...  0.000000  0.00000  0.000000      0.0\n",
              "\n",
              "[4 rows x 9 columns]"
            ]
          },
          "metadata": {
            "tags": []
          },
          "execution_count": 16
        }
      ]
    },
    {
      "cell_type": "markdown",
      "metadata": {
        "id": "DRQD5d7yYPdD"
      },
      "source": [
        "### NearMiss-1"
      ]
    },
    {
      "cell_type": "markdown",
      "metadata": {
        "id": "cMHgAh9NYW5H"
      },
      "source": [
        "---\r\n",
        "\r\n",
        "those points from majority class are retained whose mean distance to the k nearest points in minority class is lowest. Which means it will keep the points of majority class that’s similar to the minority class.\r\n",
        "\r\n",
        "---"
      ]
    },
    {
      "cell_type": "code",
      "metadata": {
        "id": "z54x38xoYf3e"
      },
      "source": [
        "from imblearn.under_sampling import NearMiss"
      ],
      "execution_count": null,
      "outputs": []
    },
    {
      "cell_type": "code",
      "metadata": {
        "colab": {
          "base_uri": "https://localhost:8080/",
          "height": 227
        },
        "id": "LMRPPUvMYLv5",
        "outputId": "a213ccff-6a15-4910-e697-86ccf4f6d506"
      },
      "source": [
        "nm = NearMiss(ratio='not minority',random_state=777, version=1, n_neighbors=1)\r\n",
        "X_nm, y_nm = nm.fit_sample(testing_tfidf, testing_target)\r\n",
        "pd.DataFrame(X_nm.todense(), columns=tv.get_feature_names())"
      ],
      "execution_count": null,
      "outputs": [
        {
          "output_type": "stream",
          "text": [
            "/usr/local/lib/python3.6/dist-packages/sklearn/utils/deprecation.py:87: FutureWarning: Function safe_indexing is deprecated; safe_indexing is deprecated in version 0.22 and will be removed in version 0.24.\n",
            "  warnings.warn(msg, category=FutureWarning)\n"
          ],
          "name": "stderr"
        },
        {
          "output_type": "execute_result",
          "data": {
            "text/html": [
              "<div>\n",
              "<style scoped>\n",
              "    .dataframe tbody tr th:only-of-type {\n",
              "        vertical-align: middle;\n",
              "    }\n",
              "\n",
              "    .dataframe tbody tr th {\n",
              "        vertical-align: top;\n",
              "    }\n",
              "\n",
              "    .dataframe thead th {\n",
              "        text-align: right;\n",
              "    }\n",
              "</style>\n",
              "<table border=\"1\" class=\"dataframe\">\n",
              "  <thead>\n",
              "    <tr style=\"text-align: right;\">\n",
              "      <th></th>\n",
              "      <th>adore</th>\n",
              "      <th>cats</th>\n",
              "      <th>dogs</th>\n",
              "      <th>don</th>\n",
              "      <th>hate</th>\n",
              "      <th>like</th>\n",
              "      <th>love</th>\n",
              "      <th>spiders</th>\n",
              "      <th>swiming</th>\n",
              "    </tr>\n",
              "  </thead>\n",
              "  <tbody>\n",
              "    <tr>\n",
              "      <th>0</th>\n",
              "      <td>0.00000</td>\n",
              "      <td>0.494686</td>\n",
              "      <td>0.0</td>\n",
              "      <td>0.714542</td>\n",
              "      <td>0.000000</td>\n",
              "      <td>0.494686</td>\n",
              "      <td>0.00000</td>\n",
              "      <td>0.000000</td>\n",
              "      <td>0.0</td>\n",
              "    </tr>\n",
              "    <tr>\n",
              "      <th>1</th>\n",
              "      <td>0.00000</td>\n",
              "      <td>0.000000</td>\n",
              "      <td>0.0</td>\n",
              "      <td>0.000000</td>\n",
              "      <td>0.707107</td>\n",
              "      <td>0.000000</td>\n",
              "      <td>0.00000</td>\n",
              "      <td>0.707107</td>\n",
              "      <td>0.0</td>\n",
              "    </tr>\n",
              "    <tr>\n",
              "      <th>2</th>\n",
              "      <td>0.00000</td>\n",
              "      <td>0.569213</td>\n",
              "      <td>0.0</td>\n",
              "      <td>0.000000</td>\n",
              "      <td>0.000000</td>\n",
              "      <td>0.000000</td>\n",
              "      <td>0.82219</td>\n",
              "      <td>0.000000</td>\n",
              "      <td>0.0</td>\n",
              "    </tr>\n",
              "    <tr>\n",
              "      <th>3</th>\n",
              "      <td>0.82219</td>\n",
              "      <td>0.569213</td>\n",
              "      <td>0.0</td>\n",
              "      <td>0.000000</td>\n",
              "      <td>0.000000</td>\n",
              "      <td>0.000000</td>\n",
              "      <td>0.00000</td>\n",
              "      <td>0.000000</td>\n",
              "      <td>0.0</td>\n",
              "    </tr>\n",
              "  </tbody>\n",
              "</table>\n",
              "</div>"
            ],
            "text/plain": [
              "     adore      cats  dogs       don  ...      like     love   spiders  swiming\n",
              "0  0.00000  0.494686   0.0  0.714542  ...  0.494686  0.00000  0.000000      0.0\n",
              "1  0.00000  0.000000   0.0  0.000000  ...  0.000000  0.00000  0.707107      0.0\n",
              "2  0.00000  0.569213   0.0  0.000000  ...  0.000000  0.82219  0.000000      0.0\n",
              "3  0.82219  0.569213   0.0  0.000000  ...  0.000000  0.00000  0.000000      0.0\n",
              "\n",
              "[4 rows x 9 columns]"
            ]
          },
          "metadata": {
            "tags": []
          },
          "execution_count": 19
        }
      ]
    },
    {
      "cell_type": "markdown",
      "metadata": {
        "id": "iOddw6pnEc7Z"
      },
      "source": [
        "# Text augmentation : "
      ]
    },
    {
      "cell_type": "markdown",
      "metadata": {
        "id": "8S79kQ-gMQmX"
      },
      "source": [
        "---\r\n",
        "Downloading the 2 DA libraries\r\n",
        "\r\n",
        "---"
      ]
    },
    {
      "cell_type": "code",
      "metadata": {
        "colab": {
          "base_uri": "https://localhost:8080/"
        },
        "id": "YRrH6-A5SLXa",
        "outputId": "1d5763e8-e398-4867-eab0-aa491dc367c3"
      },
      "source": [
        "!pip install nlpaug\r\n",
        "!pip install textaugment"
      ],
      "execution_count": null,
      "outputs": [
        {
          "output_type": "stream",
          "text": [
            "Collecting nlpaug\n",
            "\u001b[?25l  Downloading https://files.pythonhosted.org/packages/ac/7c/09173d1703c970f039d2492150607343de8a57752e7ba7afb8247b4cfbd6/nlpaug-1.1.1-py3-none-any.whl (381kB)\n",
            "\r\u001b[K     |▉                               | 10kB 16.6MB/s eta 0:00:01\r\u001b[K     |█▊                              | 20kB 22.3MB/s eta 0:00:01\r\u001b[K     |██▋                             | 30kB 11.8MB/s eta 0:00:01\r\u001b[K     |███▍                            | 40kB 8.9MB/s eta 0:00:01\r\u001b[K     |████▎                           | 51kB 4.4MB/s eta 0:00:01\r\u001b[K     |█████▏                          | 61kB 4.8MB/s eta 0:00:01\r\u001b[K     |██████                          | 71kB 5.3MB/s eta 0:00:01\r\u001b[K     |██████▉                         | 81kB 5.6MB/s eta 0:00:01\r\u001b[K     |███████▊                        | 92kB 5.3MB/s eta 0:00:01\r\u001b[K     |████████▋                       | 102kB 5.8MB/s eta 0:00:01\r\u001b[K     |█████████▍                      | 112kB 5.8MB/s eta 0:00:01\r\u001b[K     |██████████▎                     | 122kB 5.8MB/s eta 0:00:01\r\u001b[K     |███████████▏                    | 133kB 5.8MB/s eta 0:00:01\r\u001b[K     |████████████                    | 143kB 5.8MB/s eta 0:00:01\r\u001b[K     |████████████▉                   | 153kB 5.8MB/s eta 0:00:01\r\u001b[K     |█████████████▊                  | 163kB 5.8MB/s eta 0:00:01\r\u001b[K     |██████████████▋                 | 174kB 5.8MB/s eta 0:00:01\r\u001b[K     |███████████████▌                | 184kB 5.8MB/s eta 0:00:01\r\u001b[K     |████████████████▎               | 194kB 5.8MB/s eta 0:00:01\r\u001b[K     |█████████████████▏              | 204kB 5.8MB/s eta 0:00:01\r\u001b[K     |██████████████████              | 215kB 5.8MB/s eta 0:00:01\r\u001b[K     |██████████████████▉             | 225kB 5.8MB/s eta 0:00:01\r\u001b[K     |███████████████████▊            | 235kB 5.8MB/s eta 0:00:01\r\u001b[K     |████████████████████▋           | 245kB 5.8MB/s eta 0:00:01\r\u001b[K     |█████████████████████▌          | 256kB 5.8MB/s eta 0:00:01\r\u001b[K     |██████████████████████▎         | 266kB 5.8MB/s eta 0:00:01\r\u001b[K     |███████████████████████▏        | 276kB 5.8MB/s eta 0:00:01\r\u001b[K     |████████████████████████        | 286kB 5.8MB/s eta 0:00:01\r\u001b[K     |████████████████████████▉       | 296kB 5.8MB/s eta 0:00:01\r\u001b[K     |█████████████████████████▊      | 307kB 5.8MB/s eta 0:00:01\r\u001b[K     |██████████████████████████▋     | 317kB 5.8MB/s eta 0:00:01\r\u001b[K     |███████████████████████████▌    | 327kB 5.8MB/s eta 0:00:01\r\u001b[K     |████████████████████████████▎   | 337kB 5.8MB/s eta 0:00:01\r\u001b[K     |█████████████████████████████▏  | 348kB 5.8MB/s eta 0:00:01\r\u001b[K     |██████████████████████████████  | 358kB 5.8MB/s eta 0:00:01\r\u001b[K     |███████████████████████████████ | 368kB 5.8MB/s eta 0:00:01\r\u001b[K     |███████████████████████████████▊| 378kB 5.8MB/s eta 0:00:01\r\u001b[K     |████████████████████████████████| 389kB 5.8MB/s \n",
            "\u001b[?25hInstalling collected packages: nlpaug\n",
            "Successfully installed nlpaug-1.1.1\n",
            "Collecting textaugment\n",
            "  Downloading https://files.pythonhosted.org/packages/2c/63/9960414280dba3d9eba332502231d69fdc8ba664a4bd3d46842ba8cf0ef2/textaugment-1.3.4-py3-none-any.whl\n",
            "Requirement already satisfied: numpy in /usr/local/lib/python3.6/dist-packages (from textaugment) (1.19.4)\n",
            "Requirement already satisfied: nltk in /usr/local/lib/python3.6/dist-packages (from textaugment) (3.2.5)\n",
            "Collecting googletrans\n",
            "  Downloading https://files.pythonhosted.org/packages/71/3a/3b19effdd4c03958b90f40fe01c93de6d5280e03843cc5adf6956bfc9512/googletrans-3.0.0.tar.gz\n",
            "Requirement already satisfied: gensim in /usr/local/lib/python3.6/dist-packages (from textaugment) (3.6.0)\n",
            "Requirement already satisfied: textblob in /usr/local/lib/python3.6/dist-packages (from textaugment) (0.15.3)\n",
            "Requirement already satisfied: six in /usr/local/lib/python3.6/dist-packages (from nltk->textaugment) (1.15.0)\n",
            "Collecting httpx==0.13.3\n",
            "\u001b[?25l  Downloading https://files.pythonhosted.org/packages/54/b4/698b284c6aed4d7c2b4fe3ba5df1fcf6093612423797e76fbb24890dd22f/httpx-0.13.3-py3-none-any.whl (55kB)\n",
            "\u001b[K     |████████████████████████████████| 61kB 3.3MB/s \n",
            "\u001b[?25hRequirement already satisfied: scipy>=0.18.1 in /usr/local/lib/python3.6/dist-packages (from gensim->textaugment) (1.4.1)\n",
            "Requirement already satisfied: smart-open>=1.2.1 in /usr/local/lib/python3.6/dist-packages (from gensim->textaugment) (4.0.1)\n",
            "Collecting sniffio\n",
            "  Downloading https://files.pythonhosted.org/packages/52/b0/7b2e028b63d092804b6794595871f936aafa5e9322dcaaad50ebf67445b3/sniffio-1.2.0-py3-none-any.whl\n",
            "Requirement already satisfied: certifi in /usr/local/lib/python3.6/dist-packages (from httpx==0.13.3->googletrans->textaugment) (2020.12.5)\n",
            "Collecting httpcore==0.9.*\n",
            "\u001b[?25l  Downloading https://files.pythonhosted.org/packages/dd/d5/e4ff9318693ac6101a2095e580908b591838c6f33df8d3ee8dd953ba96a8/httpcore-0.9.1-py3-none-any.whl (42kB)\n",
            "\u001b[K     |████████████████████████████████| 51kB 6.2MB/s \n",
            "\u001b[?25hRequirement already satisfied: idna==2.* in /usr/local/lib/python3.6/dist-packages (from httpx==0.13.3->googletrans->textaugment) (2.10)\n",
            "Requirement already satisfied: chardet==3.* in /usr/local/lib/python3.6/dist-packages (from httpx==0.13.3->googletrans->textaugment) (3.0.4)\n",
            "Collecting rfc3986<2,>=1.3\n",
            "  Downloading https://files.pythonhosted.org/packages/78/be/7b8b99fd74ff5684225f50dd0e865393d2265656ef3b4ba9eaaaffe622b8/rfc3986-1.4.0-py2.py3-none-any.whl\n",
            "Collecting hstspreload\n",
            "\u001b[?25l  Downloading https://files.pythonhosted.org/packages/dd/50/606213e12fb49c5eb667df0936223dcaf461f94e215ea60244b2b1e9b039/hstspreload-2020.12.22-py3-none-any.whl (994kB)\n",
            "\u001b[K     |████████████████████████████████| 1.0MB 8.4MB/s \n",
            "\u001b[?25hCollecting contextvars>=2.1; python_version < \"3.7\"\n",
            "  Downloading https://files.pythonhosted.org/packages/83/96/55b82d9f13763be9d672622e1b8106c85acb83edd7cc2fa5bc67cd9877e9/contextvars-2.4.tar.gz\n",
            "Collecting h11<0.10,>=0.8\n",
            "\u001b[?25l  Downloading https://files.pythonhosted.org/packages/5a/fd/3dad730b0f95e78aeeb742f96fa7bbecbdd56a58e405d3da440d5bfb90c6/h11-0.9.0-py2.py3-none-any.whl (53kB)\n",
            "\u001b[K     |████████████████████████████████| 61kB 8.3MB/s \n",
            "\u001b[?25hCollecting h2==3.*\n",
            "\u001b[?25l  Downloading https://files.pythonhosted.org/packages/25/de/da019bcc539eeab02f6d45836f23858ac467f584bfec7a526ef200242afe/h2-3.2.0-py2.py3-none-any.whl (65kB)\n",
            "\u001b[K     |████████████████████████████████| 71kB 8.6MB/s \n",
            "\u001b[?25hCollecting immutables>=0.9\n",
            "\u001b[?25l  Downloading https://files.pythonhosted.org/packages/99/e0/ea6fd4697120327d26773b5a84853f897a68e33d3f9376b00a8ff96e4f63/immutables-0.14-cp36-cp36m-manylinux1_x86_64.whl (98kB)\n",
            "\u001b[K     |████████████████████████████████| 102kB 10.8MB/s \n",
            "\u001b[?25hCollecting hpack<4,>=3.0\n",
            "  Downloading https://files.pythonhosted.org/packages/8a/cc/e53517f4a1e13f74776ca93271caef378dadec14d71c61c949d759d3db69/hpack-3.0.0-py2.py3-none-any.whl\n",
            "Collecting hyperframe<6,>=5.2.0\n",
            "  Downloading https://files.pythonhosted.org/packages/19/0c/bf88182bcb5dce3094e2f3e4fe20db28a9928cb7bd5b08024030e4b140db/hyperframe-5.2.0-py2.py3-none-any.whl\n",
            "Building wheels for collected packages: googletrans, contextvars\n",
            "  Building wheel for googletrans (setup.py) ... \u001b[?25l\u001b[?25hdone\n",
            "  Created wheel for googletrans: filename=googletrans-3.0.0-cp36-none-any.whl size=15736 sha256=790ff82da89f73e27bb5bea44a92146ba98a14b734e7221dd328b063a1f1a837\n",
            "  Stored in directory: /root/.cache/pip/wheels/28/1a/a7/eaf4d7a3417a0c65796c547cff4deb6d79c7d14c2abd29273e\n",
            "  Building wheel for contextvars (setup.py) ... \u001b[?25l\u001b[?25hdone\n",
            "  Created wheel for contextvars: filename=contextvars-2.4-cp36-none-any.whl size=7667 sha256=61a42b3857358e0fc5d809fbdf9a62589d64202f615f2721e81c9b60a60d8fb0\n",
            "  Stored in directory: /root/.cache/pip/wheels/a5/7d/68/1ebae2668bda2228686e3c1cf16f2c2384cea6e9334ad5f6de\n",
            "Successfully built googletrans contextvars\n",
            "Installing collected packages: immutables, contextvars, sniffio, h11, hpack, hyperframe, h2, httpcore, rfc3986, hstspreload, httpx, googletrans, textaugment\n",
            "Successfully installed contextvars-2.4 googletrans-3.0.0 h11-0.9.0 h2-3.2.0 hpack-3.0.0 hstspreload-2020.12.22 httpcore-0.9.1 httpx-0.13.3 hyperframe-5.2.0 immutables-0.14 rfc3986-1.4.0 sniffio-1.2.0 textaugment-1.3.4\n"
          ],
          "name": "stdout"
        }
      ]
    },
    {
      "cell_type": "markdown",
      "metadata": {
        "id": "IHRF8g6YNQ71"
      },
      "source": [
        "# Word Augmentation :\r\n"
      ]
    },
    {
      "cell_type": "markdown",
      "metadata": {
        "id": "CcPJblZxHUCQ"
      },
      "source": [
        "## Thesausus : \n",
        "\n",
        "---\n",
        "\n",
        "This technique is for replacing words by near synonyms \n",
        "\n",
        "---"
      ]
    },
    {
      "cell_type": "code",
      "metadata": {
        "id": "7utmoDIQSE5b",
        "colab": {
          "base_uri": "https://localhost:8080/"
        },
        "outputId": "99b9ed61-0171-4052-8c87-4a21a6e9bb83"
      },
      "source": [
        "import nltk\r\n",
        "nltk.download('omw')\r\n",
        "nltk.download('punkt')\r\n",
        "nltk.download('wordnet')\r\n",
        "from nlpaug.util import Action"
      ],
      "execution_count": null,
      "outputs": [
        {
          "output_type": "stream",
          "text": [
            "[nltk_data] Downloading package omw to /root/nltk_data...\n",
            "[nltk_data]   Unzipping corpora/omw.zip.\n",
            "[nltk_data] Downloading package punkt to /root/nltk_data...\n",
            "[nltk_data]   Unzipping tokenizers/punkt.zip.\n",
            "[nltk_data] Downloading package wordnet to /root/nltk_data...\n",
            "[nltk_data]   Unzipping corpora/wordnet.zip.\n"
          ],
          "name": "stdout"
        }
      ]
    },
    {
      "cell_type": "markdown",
      "metadata": {
        "id": "dj67RY3yUa0T"
      },
      "source": [
        "----\r\n",
        "----"
      ]
    },
    {
      "cell_type": "markdown",
      "metadata": {
        "id": "-lafLye0b_sx"
      },
      "source": [
        "---\r\n",
        "WordNet is a lexical database for the English language, which was created by Princeton, and is part of the NLTK corpus.\r\n",
        "\r\n",
        "You can use WordNet alongside the NLTK module to find the meanings of words, synonyms, antonyms, and more.\r\n",
        "\r\n",
        "---"
      ]
    },
    {
      "cell_type": "markdown",
      "metadata": {
        "id": "JLQOpA6IjOg9"
      },
      "source": [
        "![wordnetimage.PNG](data:image/png;base64,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)"
      ]
    },
    {
      "cell_type": "markdown",
      "metadata": {
        "id": "sZwz7JzCIDcn"
      },
      "source": [
        "### With NLPaug :"
      ]
    },
    {
      "cell_type": "code",
      "metadata": {
        "id": "QmcCutfa3diQ"
      },
      "source": [
        "import nlpaug.augmenter.word as naw"
      ],
      "execution_count": null,
      "outputs": []
    },
    {
      "cell_type": "code",
      "metadata": {
        "id": "pYYJurqXdoDr"
      },
      "source": [
        "text = 'i have to go to the beach'"
      ],
      "execution_count": null,
      "outputs": []
    },
    {
      "cell_type": "code",
      "metadata": {
        "colab": {
          "base_uri": "https://localhost:8080/"
        },
        "id": "FehzArpPSVdo",
        "outputId": "8fca25f8-fcbb-40d4-8781-674acb021337"
      },
      "source": [
        "aug = naw.SynonymAug(aug_src='wordnet', lang='eng')\r\n",
        "augmented_text = aug.augment(text)\r\n",
        "print(\"Original:\")\r\n",
        "print(text)\r\n",
        "print(\"Augmented Text:\")\r\n",
        "print(augmented_text)"
      ],
      "execution_count": null,
      "outputs": [
        {
          "output_type": "stream",
          "text": [
            "Original:\n",
            "i have to go to the beach\n",
            "Augmented Text:\n",
            "i hold to lead to the beach\n"
          ],
          "name": "stdout"
        }
      ]
    },
    {
      "cell_type": "markdown",
      "metadata": {
        "id": "0gGd7CFXUdyN"
      },
      "source": [
        "----\r\n",
        "----"
      ]
    },
    {
      "cell_type": "markdown",
      "metadata": {
        "id": "LMR_3d-JI7ed"
      },
      "source": [
        "### with textaugment "
      ]
    },
    {
      "cell_type": "code",
      "metadata": {
        "colab": {
          "base_uri": "https://localhost:8080/"
        },
        "id": "wJ-0O8IS4l1k",
        "outputId": "3fc9c683-65f3-4138-c200-918973a379b9"
      },
      "source": [
        "from textaugment import Wordnet\n",
        "t = Wordnet()\n",
        "augmented_text=t.augment(text)\n",
        "print(\"Original:\")\n",
        "print(text)\n",
        "print(\"Augmented Text:\")\n",
        "print(augmented_text)"
      ],
      "execution_count": null,
      "outputs": [
        {
          "output_type": "stream",
          "text": [
            "Original:\n",
            "i have to go to the beach\n",
            "Augmented Text:\n",
            "i get to pass to the beach\n"
          ],
          "name": "stdout"
        }
      ]
    },
    {
      "cell_type": "markdown",
      "metadata": {
        "id": "nU8rN3uA4_Um"
      },
      "source": [
        " ----\n",
        " v = True # enable verbs augmentation. By default is True.\n",
        "\n",
        "\n",
        " n = False # enable nouns augmentation. By default is False.\n",
        "\n",
        "\n",
        "runs = 1 # number of times to augment a sentence. By default is 1.\n",
        "\n",
        "\n",
        "----"
      ]
    },
    {
      "cell_type": "code",
      "metadata": {
        "colab": {
          "base_uri": "https://localhost:8080/"
        },
        "id": "oVKkpO-n1UWn",
        "outputId": "d9bb667e-43d0-4790-dc83-4160c20b6908"
      },
      "source": [
        "from textaugment import Wordnet\n",
        "t = Wordnet(n=True)\n",
        "augmented_text=t.augment('In the afternoon, John is riding his car to town')\n",
        "print(\"Original:\")\n",
        "print('In the afternoon, John is riding his car to town')\n",
        "print(\"Augmented Text:\")\n",
        "print(augmented_text)"
      ],
      "execution_count": null,
      "outputs": [
        {
          "output_type": "stream",
          "text": [
            "Original:\n",
            "In the afternoon, John is riding his car to town\n",
            "Augmented Text:\n",
            "in the afternoon, trick is riding his car to town\n"
          ],
          "name": "stdout"
        }
      ]
    },
    {
      "cell_type": "markdown",
      "metadata": {
        "id": "apoxHB2lUhoY"
      },
      "source": [
        "----\r\n",
        "----"
      ]
    },
    {
      "cell_type": "markdown",
      "metadata": {
        "id": "Z9OSVUICXqjA"
      },
      "source": [
        "## Word embedings augmenter :"
      ]
    },
    {
      "cell_type": "markdown",
      "metadata": {
        "id": "S2ToOEKNiIN8"
      },
      "source": [
        "![wordEmbedimage.PNG](data:image/png;base64,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)"
      ]
    },
    {
      "cell_type": "markdown",
      "metadata": {
        "id": "gWT5DpNoN-wO"
      },
      "source": [
        "### Using nlpaug"
      ]
    },
    {
      "cell_type": "markdown",
      "metadata": {
        "id": "qYD-NUxSs5ZE"
      },
      "source": [
        "----\r\n",
        "Downloading the Glove model \r\n",
        "\r\n",
        "----"
      ]
    },
    {
      "cell_type": "code",
      "metadata": {
        "colab": {
          "base_uri": "https://localhost:8080/"
        },
        "id": "glLdmHYvLNTv",
        "outputId": "fc0a2030-cc84-4de5-a140-6dc2803a2214"
      },
      "source": [
        "!wget http://nlp.stanford.edu/data/glove.6B.zip\r\n",
        "import zipfile\r\n",
        "zip_ref = zipfile.ZipFile('glove.6B.zip', 'r')\r\n",
        "zip_ref.extractall('glove6B')\r\n",
        "zip_ref.close()"
      ],
      "execution_count": null,
      "outputs": [
        {
          "output_type": "stream",
          "text": [
            "--2020-12-23 12:02:00--  http://nlp.stanford.edu/data/glove.6B.zip\n",
            "Resolving nlp.stanford.edu (nlp.stanford.edu)... 171.64.67.140\n",
            "Connecting to nlp.stanford.edu (nlp.stanford.edu)|171.64.67.140|:80... connected.\n",
            "HTTP request sent, awaiting response... 302 Found\n",
            "Location: https://nlp.stanford.edu/data/glove.6B.zip [following]\n",
            "--2020-12-23 12:02:00--  https://nlp.stanford.edu/data/glove.6B.zip\n",
            "Connecting to nlp.stanford.edu (nlp.stanford.edu)|171.64.67.140|:443... connected.\n",
            "HTTP request sent, awaiting response... 301 Moved Permanently\n",
            "Location: http://downloads.cs.stanford.edu/nlp/data/glove.6B.zip [following]\n",
            "--2020-12-23 12:02:00--  http://downloads.cs.stanford.edu/nlp/data/glove.6B.zip\n",
            "Resolving downloads.cs.stanford.edu (downloads.cs.stanford.edu)... 171.64.64.22\n",
            "Connecting to downloads.cs.stanford.edu (downloads.cs.stanford.edu)|171.64.64.22|:80... connected.\n",
            "HTTP request sent, awaiting response... 200 OK\n",
            "Length: 862182613 (822M) [application/zip]\n",
            "Saving to: ‘glove.6B.zip’\n",
            "\n",
            "glove.6B.zip        100%[===================>] 822.24M  2.01MB/s    in 6m 28s  \n",
            "\n",
            "2020-12-23 12:08:29 (2.12 MB/s) - ‘glove.6B.zip’ saved [862182613/862182613]\n",
            "\n"
          ],
          "name": "stdout"
        }
      ]
    },
    {
      "cell_type": "markdown",
      "metadata": {
        "id": "kBYtMJQ6Um-i"
      },
      "source": [
        "----\r\n",
        "----"
      ]
    },
    {
      "cell_type": "code",
      "metadata": {
        "id": "UO0oBimQ3CB1",
        "colab": {
          "base_uri": "https://localhost:8080/"
        },
        "outputId": "770c8786-170d-4940-b0e9-3897b7c21c5e"
      },
      "source": [
        "#import gensim.downloader as api\r\n",
        "aug = naw.WordEmbsAug(model_type='glove', model_path= '/content/glove6B/glove.6B.100d.txt')\r\n",
        "augmented_text=aug.augment(text)\r\n",
        "print(\"Original:\")\r\n",
        "print(text)\r\n",
        "print(\"Augmented Text:\")\r\n",
        "print(augmented_text)"
      ],
      "execution_count": null,
      "outputs": [
        {
          "output_type": "stream",
          "text": [
            "Original:\n",
            "i have to go to the beach\n",
            "Augmented Text:\n",
            "i have to go to entire hotel\n"
          ],
          "name": "stdout"
        }
      ]
    },
    {
      "cell_type": "markdown",
      "metadata": {
        "id": "hZz-qszPUpwP"
      },
      "source": [
        "----\r\n",
        "----"
      ]
    },
    {
      "cell_type": "markdown",
      "metadata": {
        "id": "Ky8OSS2dt-ft"
      },
      "source": [
        "### Using textaugment with  google word2vec"
      ]
    },
    {
      "cell_type": "markdown",
      "metadata": {
        "id": "UahWPf8ptO1o"
      },
      "source": [
        "----\r\n",
        "Downloading the google news model for word embd \r\n",
        "\r\n",
        "----"
      ]
    },
    {
      "cell_type": "code",
      "metadata": {
        "id": "6UhXK4OjZjAu",
        "colab": {
          "base_uri": "https://localhost:8080/"
        },
        "outputId": "8f27d437-cb27-4976-f4fe-d0f73fa80930"
      },
      "source": [
        "import gensim.downloader as api\r\n",
        "\r\n",
        "model = api.load('word2vec-google-news-300')"
      ],
      "execution_count": null,
      "outputs": [
        {
          "output_type": "stream",
          "text": [
            "[================================------------------] 65.4% 1088.2/1662.8MB downloadedBuffered data was truncated after reaching the output size limit."
          ],
          "name": "stdout"
        }
      ]
    },
    {
      "cell_type": "code",
      "metadata": {
        "id": "L2CEqPmdJetZ",
        "colab": {
          "base_uri": "https://localhost:8080/"
        },
        "outputId": "c8fc4d1e-c776-4900-fdee-965da90b663c"
      },
      "source": [
        "from textaugment import Word2vec\n",
        "t = Word2vec(model=model)\n",
        "augmented_text=t.augment('The stories are good')\n",
        "print(\"Original:\")\n",
        "print('The stories are good')\n",
        "print(\"Augmented Text:\")\n",
        "print(augmented_text)"
      ],
      "execution_count": null,
      "outputs": [
        {
          "output_type": "stream",
          "text": [
            "Original:\n",
            "The stories are good\n",
            "Augmented Text:\n",
            "the stories are bad\n"
          ],
          "name": "stdout"
        }
      ]
    },
    {
      "cell_type": "markdown",
      "metadata": {
        "id": "af7SILcdUsrJ"
      },
      "source": [
        "----\r\n",
        "----"
      ]
    },
    {
      "cell_type": "markdown",
      "metadata": {
        "id": "gRXSeHUKYQc4"
      },
      "source": [
        "## Back Translation :"
      ]
    },
    {
      "cell_type": "markdown",
      "metadata": {
        "id": "kg29_PY-jixw"
      },
      "source": [
        "![translationImageModel.PNG](data:image/png;base64,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)"
      ]
    },
    {
      "cell_type": "markdown",
      "metadata": {
        "id": "uMcs_3N43NoE"
      },
      "source": [
        "### With textaugment :"
      ]
    },
    {
      "cell_type": "code",
      "metadata": {
        "id": "dzyC8gcCXjSg",
        "colab": {
          "base_uri": "https://localhost:8080/"
        },
        "outputId": "41c73aca-067a-4d41-956f-957f13d85271"
      },
      "source": [
        "from textaugment import Translate\r\n",
        "t = Translate(src=\"en\", to=\"fr\")\r\n",
        "augmented_text=t.augment('In the afternoon, John is going to town')\r\n",
        "print(\"Original:\")\r\n",
        "print('In the afternoon, John is going to town')\r\n",
        "print(\"Augmented Text:\")\r\n",
        "print(augmented_text)"
      ],
      "execution_count": null,
      "outputs": [
        {
          "output_type": "stream",
          "text": [
            "Original:\n",
            "In the afternoon, John is going to town\n",
            "Augmented Text:\n",
            "in the afternoon john goes to town\n"
          ],
          "name": "stdout"
        }
      ]
    },
    {
      "cell_type": "markdown",
      "metadata": {
        "id": "dykohRjQUw_m"
      },
      "source": [
        "----\r\n",
        "----"
      ]
    },
    {
      "cell_type": "markdown",
      "metadata": {
        "id": "yri4M_Qo3WSn"
      },
      "source": [
        "### With NLPaug :"
      ]
    },
    {
      "cell_type": "markdown",
      "metadata": {
        "id": "mB28ty7X8gVE"
      },
      "source": [
        "----\r\n",
        "\r\n",
        "Fairseq(-py) is a sequence modeling toolkit that allows researchers and developers to train custom models for translation, summarization, language modeling and other text generation tasks.\r\n",
        "\r\n",
        "----"
      ]
    },
    {
      "cell_type": "code",
      "metadata": {
        "colab": {
          "base_uri": "https://localhost:8080/",
          "height": 870
        },
        "id": "Wv4alxfwCyFH",
        "outputId": "54621cab-9d76-4f6d-a06a-ba25f5f43b85"
      },
      "source": [
        "pip install fairseq"
      ],
      "execution_count": null,
      "outputs": [
        {
          "output_type": "stream",
          "text": [
            "Collecting fairseq\n",
            "\u001b[?25l  Downloading https://files.pythonhosted.org/packages/2c/da/7c7032988dade3b21ccfd5b226e50b382abfd3459129d67240bb004506ae/fairseq-0.10.1-cp36-cp36m-manylinux1_x86_64.whl (1.7MB)\n",
            "\u001b[K     |████████████████████████████████| 1.7MB 4.3MB/s \n",
            "\u001b[?25hCollecting hydra-core\n",
            "\u001b[?25l  Downloading https://files.pythonhosted.org/packages/f0/1f/7f502b9e37596164111655861370b08626f46f9e4524433c354f472765d4/hydra_core-1.0.4-py3-none-any.whl (122kB)\n",
            "\u001b[K     |████████████████████████████████| 122kB 48.7MB/s \n",
            "\u001b[?25hRequirement already satisfied: numpy in /usr/local/lib/python3.6/dist-packages (from fairseq) (1.19.4)\n",
            "Requirement already satisfied: regex in /usr/local/lib/python3.6/dist-packages (from fairseq) (2019.12.20)\n",
            "Requirement already satisfied: tqdm in /usr/local/lib/python3.6/dist-packages (from fairseq) (4.41.1)\n",
            "Requirement already satisfied: cython in /usr/local/lib/python3.6/dist-packages (from fairseq) (0.29.21)\n",
            "Collecting sacrebleu>=1.4.12\n",
            "\u001b[?25l  Downloading https://files.pythonhosted.org/packages/a3/c4/8e948f601a4f9609e8b2b58f31966cb13cf17b940b82aa3e767f01c42c52/sacrebleu-1.4.14-py3-none-any.whl (64kB)\n",
            "\u001b[K     |████████████████████████████████| 71kB 10.1MB/s \n",
            "\u001b[?25hRequirement already satisfied: torch in /usr/local/lib/python3.6/dist-packages (from fairseq) (1.7.0+cu101)\n",
            "Requirement already satisfied: cffi in /usr/local/lib/python3.6/dist-packages (from fairseq) (1.14.4)\n",
            "Requirement already satisfied: dataclasses in /usr/local/lib/python3.6/dist-packages (from fairseq) (0.8)\n",
            "Requirement already satisfied: importlib-resources; python_version < \"3.9\" in /usr/local/lib/python3.6/dist-packages (from hydra-core->fairseq) (3.3.0)\n",
            "Collecting antlr4-python3-runtime==4.8\n",
            "\u001b[?25l  Downloading https://files.pythonhosted.org/packages/56/02/789a0bddf9c9b31b14c3e79ec22b9656185a803dc31c15f006f9855ece0d/antlr4-python3-runtime-4.8.tar.gz (112kB)\n",
            "\u001b[K     |████████████████████████████████| 112kB 45.7MB/s \n",
            "\u001b[?25hCollecting omegaconf>=2.0.5\n",
            "  Downloading https://files.pythonhosted.org/packages/e5/f6/043b6d255dd6fbf2025110cea35b87f4c5100a181681d8eab496269f0d5b/omegaconf-2.0.5-py3-none-any.whl\n",
            "Collecting portalocker\n",
            "  Downloading https://files.pythonhosted.org/packages/89/a6/3814b7107e0788040870e8825eebf214d72166adf656ba7d4bf14759a06a/portalocker-2.0.0-py2.py3-none-any.whl\n",
            "Requirement already satisfied: future in /usr/local/lib/python3.6/dist-packages (from torch->fairseq) (0.16.0)\n",
            "Requirement already satisfied: typing-extensions in /usr/local/lib/python3.6/dist-packages (from torch->fairseq) (3.7.4.3)\n",
            "Requirement already satisfied: pycparser in /usr/local/lib/python3.6/dist-packages (from cffi->fairseq) (2.20)\n",
            "Requirement already satisfied: zipp>=0.4; python_version < \"3.8\" in /usr/local/lib/python3.6/dist-packages (from importlib-resources; python_version < \"3.9\"->hydra-core->fairseq) (3.4.0)\n",
            "Collecting PyYAML>=5.1.*\n",
            "\u001b[?25l  Downloading https://files.pythonhosted.org/packages/64/c2/b80047c7ac2478f9501676c988a5411ed5572f35d1beff9cae07d321512c/PyYAML-5.3.1.tar.gz (269kB)\n",
            "\u001b[K     |████████████████████████████████| 276kB 43.9MB/s \n",
            "\u001b[?25hBuilding wheels for collected packages: antlr4-python3-runtime, PyYAML\n",
            "  Building wheel for antlr4-python3-runtime (setup.py) ... \u001b[?25l\u001b[?25hdone\n",
            "  Created wheel for antlr4-python3-runtime: filename=antlr4_python3_runtime-4.8-cp36-none-any.whl size=141231 sha256=f5357450738db904d350a4cfcfd7ae1ba434298e27a272660481fdbee8a937ef\n",
            "  Stored in directory: /root/.cache/pip/wheels/e3/e2/fa/b78480b448b8579ddf393bebd3f47ee23aa84c89b6a78285c8\n",
            "  Building wheel for PyYAML (setup.py) ... \u001b[?25l\u001b[?25hdone\n",
            "  Created wheel for PyYAML: filename=PyYAML-5.3.1-cp36-cp36m-linux_x86_64.whl size=44621 sha256=484ca1ab747d4de294c66361d6218293e5cb0d15cfd209bbb4bcf2bc4a5c6a62\n",
            "  Stored in directory: /root/.cache/pip/wheels/a7/c1/ea/cf5bd31012e735dc1dfea3131a2d5eae7978b251083d6247bd\n",
            "Successfully built antlr4-python3-runtime PyYAML\n",
            "Installing collected packages: antlr4-python3-runtime, PyYAML, omegaconf, hydra-core, portalocker, sacrebleu, fairseq\n",
            "  Found existing installation: PyYAML 3.13\n",
            "    Uninstalling PyYAML-3.13:\n",
            "      Successfully uninstalled PyYAML-3.13\n",
            "Successfully installed PyYAML-5.3.1 antlr4-python3-runtime-4.8 fairseq-0.10.1 hydra-core-1.0.4 omegaconf-2.0.5 portalocker-2.0.0 sacrebleu-1.4.14\n"
          ],
          "name": "stdout"
        },
        {
          "output_type": "display_data",
          "data": {
            "application/vnd.colab-display-data+json": {
              "pip_warning": {
                "packages": [
                  "yaml"
                ]
              }
            }
          },
          "metadata": {
            "tags": []
          }
        }
      ]
    },
    {
      "cell_type": "code",
      "metadata": {
        "colab": {
          "base_uri": "https://localhost:8080/"
        },
        "id": "Wb9u7wjtO1IR",
        "outputId": "c5dd5196-31d4-4e5f-de1f-942e0b42a296"
      },
      "source": [
        "pip install sacremoses\n"
      ],
      "execution_count": null,
      "outputs": [
        {
          "output_type": "stream",
          "text": [
            "Collecting sacremoses\n",
            "\u001b[?25l  Downloading https://files.pythonhosted.org/packages/7d/34/09d19aff26edcc8eb2a01bed8e98f13a1537005d31e95233fd48216eed10/sacremoses-0.0.43.tar.gz (883kB)\n",
            "\u001b[K     |████████████████████████████████| 890kB 4.3MB/s \n",
            "\u001b[?25hRequirement already satisfied: regex in /usr/local/lib/python3.6/dist-packages (from sacremoses) (2019.12.20)\n",
            "Requirement already satisfied: six in /usr/local/lib/python3.6/dist-packages (from sacremoses) (1.15.0)\n",
            "Requirement already satisfied: click in /usr/local/lib/python3.6/dist-packages (from sacremoses) (7.1.2)\n",
            "Requirement already satisfied: joblib in /usr/local/lib/python3.6/dist-packages (from sacremoses) (1.0.0)\n",
            "Requirement already satisfied: tqdm in /usr/local/lib/python3.6/dist-packages (from sacremoses) (4.41.1)\n",
            "Building wheels for collected packages: sacremoses\n",
            "  Building wheel for sacremoses (setup.py) ... \u001b[?25l\u001b[?25hdone\n",
            "  Created wheel for sacremoses: filename=sacremoses-0.0.43-cp36-none-any.whl size=893261 sha256=c9d5d0f5b83cb03cfad9c757bf12094998f3fe4e28cfafbdc0a02a968ec9da12\n",
            "  Stored in directory: /root/.cache/pip/wheels/29/3c/fd/7ce5c3f0666dab31a50123635e6fb5e19ceb42ce38d4e58f45\n",
            "Successfully built sacremoses\n",
            "Installing collected packages: sacremoses\n",
            "Successfully installed sacremoses-0.0.43\n"
          ],
          "name": "stdout"
        }
      ]
    },
    {
      "cell_type": "code",
      "metadata": {
        "colab": {
          "base_uri": "https://localhost:8080/"
        },
        "id": "vJy0bSbfPZdm",
        "outputId": "462e3a04-9d9e-4c33-85a9-c80705e0a709"
      },
      "source": [
        "pip install fastBPE"
      ],
      "execution_count": null,
      "outputs": [
        {
          "output_type": "stream",
          "text": [
            "Collecting fastBPE\n",
            "  Downloading https://files.pythonhosted.org/packages/e1/37/f97181428a5d151501b90b2cebedf97c81b034ace753606a3cda5ad4e6e2/fastBPE-0.1.0.tar.gz\n",
            "Building wheels for collected packages: fastBPE\n",
            "  Building wheel for fastBPE (setup.py) ... \u001b[?25l\u001b[?25hdone\n",
            "  Created wheel for fastBPE: filename=fastBPE-0.1.0-cp36-cp36m-linux_x86_64.whl size=481511 sha256=ed1078f1a8c8f51387d3d43ca772e5727d242b35ba6378837161ad194319a5aa\n",
            "  Stored in directory: /root/.cache/pip/wheels/f3/0c/9c/fc62058b4d473a5602bcd3d3edfece796f123875379ea82d79\n",
            "Successfully built fastBPE\n",
            "Installing collected packages: fastBPE\n",
            "Successfully installed fastBPE-0.1.0\n"
          ],
          "name": "stdout"
        }
      ]
    },
    {
      "cell_type": "markdown",
      "metadata": {
        "id": "snxhUiEvU2cU"
      },
      "source": [
        "----\r\n",
        "----"
      ]
    },
    {
      "cell_type": "code",
      "metadata": {
        "colab": {
          "base_uri": "https://localhost:8080/"
        },
        "id": "6MQ7AdZE_0JQ",
        "outputId": "163706e9-32c2-40df-f337-349e9e335ffb"
      },
      "source": [
        "aug = naw.BackTranslationAug()\r\n",
        "augmented_text=aug.augment(text)\r\n"
      ],
      "execution_count": null,
      "outputs": [
        {
          "output_type": "stream",
          "text": [
            "Downloading: \"https://github.com/pytorch/fairseq/archive/master.zip\" to /root/.cache/torch/hub/master.zip\n",
            "2020-12-23 12:13:12 | INFO | fairseq.file_utils | https://dl.fbaipublicfiles.com/fairseq/models/wmt19.en-de.joined-dict.ensemble.tar.gz not found in cache, downloading to /tmp/tmpn2qu4nrz\n",
            "100%|██████████| 11946275315/11946275315 [06:53<00:00, 28911716.51B/s]\n",
            "2020-12-23 12:20:06 | INFO | fairseq.file_utils | copying /tmp/tmpn2qu4nrz to cache at /root/.cache/torch/pytorch_fairseq/0695ef328ddefcb8cbcfabc3196182f59c0e41e0468b10cc0db2ae9c91881fcc.bb1be17de4233e13870bd7d6065bfdb03fca0a51dd0f5d0b7edf5c188eda71f1\n",
            "2020-12-23 12:23:55 | INFO | fairseq.file_utils | creating metadata file for /root/.cache/torch/pytorch_fairseq/0695ef328ddefcb8cbcfabc3196182f59c0e41e0468b10cc0db2ae9c91881fcc.bb1be17de4233e13870bd7d6065bfdb03fca0a51dd0f5d0b7edf5c188eda71f1\n",
            "2020-12-23 12:23:55 | INFO | fairseq.file_utils | removing temp file /tmp/tmpn2qu4nrz\n",
            "2020-12-23 12:23:55 | INFO | fairseq.file_utils | loading archive file https://dl.fbaipublicfiles.com/fairseq/models/wmt19.en-de.joined-dict.ensemble.tar.gz from cache at /root/.cache/torch/pytorch_fairseq/0695ef328ddefcb8cbcfabc3196182f59c0e41e0468b10cc0db2ae9c91881fcc.bb1be17de4233e13870bd7d6065bfdb03fca0a51dd0f5d0b7edf5c188eda71f1\n",
            "2020-12-23 12:23:55 | INFO | fairseq.file_utils | extracting archive file /root/.cache/torch/pytorch_fairseq/0695ef328ddefcb8cbcfabc3196182f59c0e41e0468b10cc0db2ae9c91881fcc.bb1be17de4233e13870bd7d6065bfdb03fca0a51dd0f5d0b7edf5c188eda71f1 to temp dir /tmp/tmp96k5ity9\n",
            "2020-12-23 12:31:41 | INFO | fairseq.tasks.translation | [en] dictionary: 42024 types\n",
            "2020-12-23 12:31:41 | INFO | fairseq.tasks.translation | [de] dictionary: 42024 types\n",
            "2020-12-23 12:31:46 | INFO | fairseq.models.fairseq_model | Namespace(activation_dropout=0.0, activation_fn='relu', adam_betas='(0.9, 0.98)', adam_eps=1e-08, adaptive_input=False, adaptive_softmax_cutoff=None, adaptive_softmax_dropout=0, arch='transformer_wmt_en_de_big', attention_dropout=0.1, batch_size=None, bpe='fastbpe', bpe_codes='/root/.cache/torch/pytorch_fairseq/0695ef328ddefcb8cbcfabc3196182f59c0e41e0468b10cc0db2ae9c91881fcc.bb1be17de4233e13870bd7d6065bfdb03fca0a51dd0f5d0b7edf5c188eda71f1/bpecodes', bucket_cap_mb=25, clip_norm=0.0, cpu=False, criterion='label_smoothed_cross_entropy', cross_self_attention=False, data='/root/.cache/torch/pytorch_fairseq/0695ef328ddefcb8cbcfabc3196182f59c0e41e0468b10cc0db2ae9c91881fcc.bb1be17de4233e13870bd7d6065bfdb03fca0a51dd0f5d0b7edf5c188eda71f1', ddp_backend='c10d', decoder_attention_heads=16, decoder_embed_dim=1024, decoder_embed_path=None, decoder_ffn_embed_dim=4096, decoder_input_dim=1024, decoder_layerdrop=0, decoder_layers=6, decoder_layers_to_keep=None, decoder_learned_pos=False, decoder_normalize_before=False, decoder_output_dim=1024, device_id=0, distributed_backend='nccl', distributed_init_method='tcp://localhost:17406', distributed_port=-1, distributed_rank=0, distributed_world_size=2, dropout=0.2, encoder_attention_heads=16, encoder_embed_dim=1024, encoder_embed_path=None, encoder_ffn_embed_dim=8192, encoder_layerdrop=0, encoder_layers=6, encoder_layers_to_keep=None, encoder_learned_pos=False, encoder_normalize_before=False, eval_bleu_detok='space', eval_bleu_remove_bpe=None, eval_tokenized_bleu=False, extra_data='', fix_batches_to_gpus=False, fp16=True, fp16_init_scale=128, fp16_scale_tolerance=0.0, fp16_scale_window=None, ignore_prefix_size=0, keep_interval_updates=-1, keep_last_epochs=-1, label_smoothing=0.1, layernorm_embedding=False, lazy_load=False, left_pad_source=False, left_pad_target=False, log_format='simple', log_interval=100, lr=[0.0007], lr_scheduler='inverse_sqrt', lr_shrink=0.1, max_epoch=0, max_sentences=None, max_sentences_valid=None, max_source_positions=1024, max_target_positions=1024, max_tokens=3584, max_update=201800, memory_efficient_fp16=False, min_loss_scale=0.0001, min_lr=1e-09, momentum=0.99, moses_no_dash_splits=False, moses_no_escape=False, no_cross_attention=False, no_epoch_checkpoints=False, no_progress_bar=True, no_save=False, no_scale_embedding=False, no_token_positional_embeddings=False, num_batch_buckets=0, num_workers=0, optimizer='adam', optimizer_overrides='{}', quant_noise_pq=0, quant_noise_pq_block_size=8, quant_noise_scalar=0, raw_text=False, relu_dropout=0.0, reset_lr_scheduler=False, reset_optimizer=False, restore_file='checkpoint_last.pt', save_dir='/checkpoint/edunov/20190403/wmt19en2de.btsample5.ffn8192.transformer_wmt_en_de_big_bsz3584_lr0.0007_dr0.2_size_updates200000_seed20_lbsm0.1_size_sa1_upsample2//finetune1', save_interval=1, save_interval_updates=200, seed=2, sentence_avg=False, share_all_embeddings=True, share_decoder_input_output_embed=True, skip_invalid_size_inputs_valid_test=False, source_lang='en', target_lang='de', task='translation', tensorboard_logdir='', threshold_loss_scale=None, tie_adaptive_weights=False, tokenizer='moses', train_subset='train', truncate_source=False, update_freq=[1], upsample_primary=1, use_old_adam=False, user_dir=None, valid_subset='valid', validate_interval=1, warmup_init_lr=1e-07, warmup_updates=4000, weight_decay=0.0)\n",
            "Using cache found in /root/.cache/torch/hub/pytorch_fairseq_master\n",
            "2020-12-23 12:31:46 | INFO | fairseq.file_utils | https://dl.fbaipublicfiles.com/fairseq/models/wmt19.de-en.joined-dict.ensemble.tar.gz not found in cache, downloading to /tmp/tmpilpnc_ld\n",
            "100%|██████████| 11958904958/11958904958 [07:03<00:00, 28205125.04B/s]\n",
            "2020-12-23 12:38:51 | INFO | fairseq.file_utils | copying /tmp/tmpilpnc_ld to cache at /root/.cache/torch/pytorch_fairseq/4055d1c0156ceff4279bd3fadfcf7d44ad3005887c16edc7ebc7e36db5559e99.3838a6fe86bebad87be65f7945fd8a8891d2601571ca4fd815f514974eac0dbc\n",
            "2020-12-23 12:42:37 | INFO | fairseq.file_utils | creating metadata file for /root/.cache/torch/pytorch_fairseq/4055d1c0156ceff4279bd3fadfcf7d44ad3005887c16edc7ebc7e36db5559e99.3838a6fe86bebad87be65f7945fd8a8891d2601571ca4fd815f514974eac0dbc\n",
            "2020-12-23 12:42:37 | INFO | fairseq.file_utils | removing temp file /tmp/tmpilpnc_ld\n",
            "2020-12-23 12:42:38 | INFO | fairseq.file_utils | loading archive file https://dl.fbaipublicfiles.com/fairseq/models/wmt19.de-en.joined-dict.ensemble.tar.gz from cache at /root/.cache/torch/pytorch_fairseq/4055d1c0156ceff4279bd3fadfcf7d44ad3005887c16edc7ebc7e36db5559e99.3838a6fe86bebad87be65f7945fd8a8891d2601571ca4fd815f514974eac0dbc\n",
            "2020-12-23 12:42:38 | INFO | fairseq.file_utils | extracting archive file /root/.cache/torch/pytorch_fairseq/4055d1c0156ceff4279bd3fadfcf7d44ad3005887c16edc7ebc7e36db5559e99.3838a6fe86bebad87be65f7945fd8a8891d2601571ca4fd815f514974eac0dbc to temp dir /tmp/tmpwvdvnfje\n",
            "2020-12-23 12:50:24 | INFO | fairseq.tasks.translation | [de] dictionary: 42024 types\n",
            "2020-12-23 12:50:24 | INFO | fairseq.tasks.translation | [en] dictionary: 42024 types\n",
            "2020-12-23 12:50:29 | INFO | fairseq.models.fairseq_model | Namespace(activation_dropout=0.0, activation_fn='relu', adam_betas='(0.9, 0.98)', adam_eps=1e-08, adaptive_input=False, adaptive_softmax_cutoff=None, adaptive_softmax_dropout=0, arch='transformer_wmt_en_de_big', attention_dropout=0.1, batch_size=None, bpe='fastbpe', bpe_codes='/root/.cache/torch/pytorch_fairseq/4055d1c0156ceff4279bd3fadfcf7d44ad3005887c16edc7ebc7e36db5559e99.3838a6fe86bebad87be65f7945fd8a8891d2601571ca4fd815f514974eac0dbc/bpecodes', bucket_cap_mb=25, clip_norm=0.0, cpu=False, criterion='label_smoothed_cross_entropy', cross_self_attention=False, data='/root/.cache/torch/pytorch_fairseq/4055d1c0156ceff4279bd3fadfcf7d44ad3005887c16edc7ebc7e36db5559e99.3838a6fe86bebad87be65f7945fd8a8891d2601571ca4fd815f514974eac0dbc', ddp_backend='c10d', decoder_attention_heads=16, decoder_embed_dim=1024, decoder_embed_path=None, decoder_ffn_embed_dim=4096, decoder_input_dim=1024, decoder_layerdrop=0, decoder_layers=6, decoder_layers_to_keep=None, decoder_learned_pos=False, decoder_normalize_before=False, decoder_output_dim=1024, device_id=0, distributed_backend='nccl', distributed_init_method='tcp://localhost:12536', distributed_port=-1, distributed_rank=0, distributed_world_size=2, dropout=0.2, encoder_attention_heads=16, encoder_embed_dim=1024, encoder_embed_path=None, encoder_ffn_embed_dim=8192, encoder_layerdrop=0, encoder_layers=6, encoder_layers_to_keep=None, encoder_learned_pos=False, encoder_normalize_before=False, eval_bleu_detok='space', eval_bleu_remove_bpe=None, eval_tokenized_bleu=False, extra_data='', fix_batches_to_gpus=False, fp16=True, fp16_init_scale=128, fp16_scale_tolerance=0.0, fp16_scale_window=None, ignore_prefix_size=0, keep_interval_updates=-1, keep_last_epochs=-1, label_smoothing=0.1, layernorm_embedding=False, lazy_load=False, left_pad_source=False, left_pad_target=False, log_format='simple', log_interval=100, lr=[0.0007], lr_scheduler='inverse_sqrt', lr_shrink=0.1, max_epoch=0, max_sentences=None, max_sentences_valid=None, max_source_positions=1024, max_target_positions=1024, max_tokens=3584, max_update=200200, memory_efficient_fp16=False, min_loss_scale=0.0001, min_lr=1e-09, momentum=0.99, moses_no_dash_splits=False, moses_no_escape=False, no_cross_attention=False, no_epoch_checkpoints=False, no_progress_bar=True, no_save=False, no_scale_embedding=False, no_token_positional_embeddings=False, num_batch_buckets=0, num_workers=0, optimizer='adam', optimizer_overrides='{}', quant_noise_pq=0, quant_noise_pq_block_size=8, quant_noise_scalar=0, raw_text=False, relu_dropout=0.0, reset_lr_scheduler=False, reset_optimizer=False, restore_file='checkpoint_last.pt', save_dir='/checkpoint/edunov/20190403/wmt19de2en.btsample5.ffn8192.transformer_wmt_en_de_big_bsz3584_lr0.0007_dr0.2_size_updates200000_seed21_lbsm0.1_size_sa1_upsample4//finetune1', save_interval=1, save_interval_updates=200, seed=2, sentence_avg=False, share_all_embeddings=True, share_decoder_input_output_embed=True, skip_invalid_size_inputs_valid_test=False, source_lang='de', target_lang='en', task='translation', tensorboard_logdir='', threshold_loss_scale=None, tie_adaptive_weights=False, tokenizer='moses', train_subset='train', truncate_source=False, update_freq=[1], upsample_primary=1, use_old_adam=False, user_dir=None, valid_subset='valid', validate_interval=1, warmup_init_lr=1e-07, warmup_updates=4000, weight_decay=0.0)\n"
          ],
          "name": "stderr"
        }
      ]
    },
    {
      "cell_type": "code",
      "metadata": {
        "id": "3ee4BZ2w6c9j",
        "colab": {
          "base_uri": "https://localhost:8080/"
        },
        "outputId": "25e7d74f-4c37-4677-a24f-84fffff375fe"
      },
      "source": [
        "print(\"Original:\")\r\n",
        "print(text)\r\n",
        "print(\"Augmented Text:\")\r\n",
        "print(augmented_text)"
      ],
      "execution_count": null,
      "outputs": [
        {
          "output_type": "stream",
          "text": [
            "Original:\n",
            "i have to go to the beach\n",
            "Augmented Text:\n",
            "I have to go to the beach\n"
          ],
          "name": "stdout"
        }
      ]
    },
    {
      "cell_type": "markdown",
      "metadata": {
        "id": "aN916mrrU6u1"
      },
      "source": [
        "----\r\n",
        "----"
      ]
    },
    {
      "cell_type": "markdown",
      "metadata": {
        "id": "cOc5HDv494Fa"
      },
      "source": [
        "## Contextual Word Embeddings Augmenter \r\n",
        "\r\n",
        "---\r\n",
        "\r\n"
      ]
    },
    {
      "cell_type": "code",
      "metadata": {
        "colab": {
          "base_uri": "https://localhost:8080/"
        },
        "id": "ccjHmCFFlTfB",
        "outputId": "1b819086-1a95-431e-c710-15bec28caf24"
      },
      "source": [
        "pip install transformers"
      ],
      "execution_count": null,
      "outputs": [
        {
          "output_type": "stream",
          "text": [
            "Collecting transformers\n",
            "\u001b[?25l  Downloading https://files.pythonhosted.org/packages/50/0c/7d5950fcd80b029be0a8891727ba21e0cd27692c407c51261c3c921f6da3/transformers-4.1.1-py3-none-any.whl (1.5MB)\n",
            "\u001b[K     |████████████████████████████████| 1.5MB 6.9MB/s \n",
            "\u001b[?25hRequirement already satisfied: regex!=2019.12.17 in /usr/local/lib/python3.6/dist-packages (from transformers) (2019.12.20)\n",
            "Collecting tokenizers==0.9.4\n",
            "\u001b[?25l  Downloading https://files.pythonhosted.org/packages/0f/1c/e789a8b12e28be5bc1ce2156cf87cb522b379be9cadc7ad8091a4cc107c4/tokenizers-0.9.4-cp36-cp36m-manylinux2010_x86_64.whl (2.9MB)\n",
            "\u001b[K     |████████████████████████████████| 2.9MB 39.2MB/s \n",
            "\u001b[?25hRequirement already satisfied: dataclasses; python_version < \"3.7\" in /usr/local/lib/python3.6/dist-packages (from transformers) (0.8)\n",
            "Requirement already satisfied: tqdm>=4.27 in /usr/local/lib/python3.6/dist-packages (from transformers) (4.41.1)\n",
            "Requirement already satisfied: filelock in /usr/local/lib/python3.6/dist-packages (from transformers) (3.0.12)\n",
            "Requirement already satisfied: packaging in /usr/local/lib/python3.6/dist-packages (from transformers) (20.8)\n",
            "Collecting sacremoses\n",
            "\u001b[?25l  Downloading https://files.pythonhosted.org/packages/7d/34/09d19aff26edcc8eb2a01bed8e98f13a1537005d31e95233fd48216eed10/sacremoses-0.0.43.tar.gz (883kB)\n",
            "\u001b[K     |████████████████████████████████| 890kB 43.6MB/s \n",
            "\u001b[?25hRequirement already satisfied: numpy in /usr/local/lib/python3.6/dist-packages (from transformers) (1.19.4)\n",
            "Requirement already satisfied: requests in /usr/local/lib/python3.6/dist-packages (from transformers) (2.23.0)\n",
            "Requirement already satisfied: pyparsing>=2.0.2 in /usr/local/lib/python3.6/dist-packages (from packaging->transformers) (2.4.7)\n",
            "Requirement already satisfied: six in /usr/local/lib/python3.6/dist-packages (from sacremoses->transformers) (1.15.0)\n",
            "Requirement already satisfied: click in /usr/local/lib/python3.6/dist-packages (from sacremoses->transformers) (7.1.2)\n",
            "Requirement already satisfied: joblib in /usr/local/lib/python3.6/dist-packages (from sacremoses->transformers) (1.0.0)\n",
            "Requirement already satisfied: certifi>=2017.4.17 in /usr/local/lib/python3.6/dist-packages (from requests->transformers) (2020.12.5)\n",
            "Requirement already satisfied: idna<3,>=2.5 in /usr/local/lib/python3.6/dist-packages (from requests->transformers) (2.10)\n",
            "Requirement already satisfied: chardet<4,>=3.0.2 in /usr/local/lib/python3.6/dist-packages (from requests->transformers) (3.0.4)\n",
            "Requirement already satisfied: urllib3!=1.25.0,!=1.25.1,<1.26,>=1.21.1 in /usr/local/lib/python3.6/dist-packages (from requests->transformers) (1.24.3)\n",
            "Building wheels for collected packages: sacremoses\n",
            "  Building wheel for sacremoses (setup.py) ... \u001b[?25l\u001b[?25hdone\n",
            "  Created wheel for sacremoses: filename=sacremoses-0.0.43-cp36-none-any.whl size=893261 sha256=aac6d8e6bf4714d2efe879860a341efb2329d793b354648d4b615b200650d326\n",
            "  Stored in directory: /root/.cache/pip/wheels/29/3c/fd/7ce5c3f0666dab31a50123635e6fb5e19ceb42ce38d4e58f45\n",
            "Successfully built sacremoses\n",
            "Installing collected packages: tokenizers, sacremoses, transformers\n",
            "Successfully installed sacremoses-0.0.43 tokenizers-0.9.4 transformers-4.1.1\n"
          ],
          "name": "stdout"
        }
      ]
    },
    {
      "cell_type": "markdown",
      "metadata": {
        "id": "DXYOJvpgU_ip"
      },
      "source": [
        "----\r\n",
        "----"
      ]
    },
    {
      "cell_type": "code",
      "metadata": {
        "colab": {
          "base_uri": "https://localhost:8080/"
        },
        "id": "ip7nBONhTIwW",
        "outputId": "c9ffdd0a-8a38-4ef7-c0d1-2fcca7d471c8"
      },
      "source": [
        "aug = naw.ContextualWordEmbsAug(model_path='bert-base-uncased')\r\n",
        "augmented_text = aug.augment(text)\r\n",
        "print(\"Original:\")\r\n",
        "print(text)\r\n",
        "print(\"Augmented Text:\")\r\n",
        "print(augmented_text)"
      ],
      "execution_count": null,
      "outputs": [
        {
          "output_type": "stream",
          "text": [
            "Original:\n",
            "i have to go to the beach\n",
            "Augmented Text:\n",
            "i have to go in city beach\n"
          ],
          "name": "stdout"
        }
      ]
    },
    {
      "cell_type": "markdown",
      "metadata": {
        "id": "nPqx8NU_gSyi"
      },
      "source": [
        "----\r\n",
        "----"
      ]
    },
    {
      "cell_type": "markdown",
      "metadata": {
        "id": "hug6UdcYgRSP"
      },
      "source": [
        "#Sentence Augmentation : "
      ]
    },
    {
      "cell_type": "markdown",
      "metadata": {
        "id": "yjg_u4gGfsmU"
      },
      "source": [
        "## Text generation "
      ]
    },
    {
      "cell_type": "markdown",
      "metadata": {
        "id": "DrZX0P-DeY6R"
      },
      "source": [
        "----\r\n",
        "\r\n",
        "Text generation usually involves the following steps: \r\n",
        "\r\n",
        "---"
      ]
    },
    {
      "cell_type": "markdown",
      "metadata": {
        "id": "7QtlH56dedcq"
      },
      "source": [
        "![text generation steps.PNG](data:image/png;base64,iVBORw0KGgoAAAANSUhEUgAAASoAAACQCAYAAAC/HCaIAAAAAXNSR0IArs4c6QAAAARnQU1BAACxjwv8YQUAAAAJcEhZcwAADsMAAA7DAcdvqGQAAB+tSURBVHhe7Z3/axNL98c/f2b7Q4q0FFrBctGK7QPqD1VoBctD6wUj2ICtPKRgKxLBXLgNSEQsyILkBwlI5BKRBqRQCEIonM+ZMzO7M7OT7Jemdns9L1hod7Ozs/PlvXNmZ8/5P2AYhik4LFQMwxQeFiqGYQoPCxXDMIWHhYphmMLDQsUwTOFhoWIYpvCwUDEMU3hYqBiGKTy5hGpw3IFWYw/KD27AzN069NT+VPTqcGdiAiqf1P+Fpw8dvNfmPwP1/7g5gvrtCZjEMtHb1NwKlBsd6J+qnxSY3pvbMHk7YxvIzXnXBVNUsgvVpy2YLE3D4oNt2NlYyN5Iiy5UlL/bUA9vqgPVqxMwv9tR/48bJVR/NqF/0qet+6kG69dKMP+0hV2z2PxaoTrvumCKSnahOh3AQD3pczXSSydU540SKhQli/4HeFQqwaPDYo8efq1QMb8rZ5qjGodQyTSq0Hi5CotXhOlTgsWNJvROj6C5gaZlCfeJEdyTD3CsTSElJtVGFe7NlaS5dH0T6l/s8Ue/tQdr19Xx2Rvw6A2aU+qYmcayuC4KReupuL6xkXhIIbnz5sg6r/bxAB6Faa9Czbz2aRcamPcpkcYVcd0mVDENvzgPESqk9RTTX8WRlvofTvvQMsppfmUbgh/qWJ4yQRNzJzhWR8T1MN3HTWjt3pblLurCLHfkONiGO7Pi/BKa/dtQqyzZbWBUHqEFFbxu+W0Lqnenw/Ipv4/yIBDXCO9h9raRR6cuBFjWzScqv6KdbNShY97yN6ynm/pac3DvWWDdD3M5KIZQYYO+86INvZM+9Np7cAcb3VRpAdbfmPtKsP5OtUCVxtTdPWj30FzqtaH+cA4b6iYc/pQ/GbS2YH5iDh6965I5pdOwBQfTuFaG+scAgq+qM6gOH42ofEIlz2t+E6YadpSNaZi8WkXDRNCHww3sZFc3w+MBdmbRUbIKFZXN7Da01f/t53PRPZ8cQes5pnsVj4uOl6JMoL0N86XbsN8+kmXyaRuWS3Owoy4ghboE917pcq9imka5/7MHi1Zd1WEdTTGzDYzMoxKqySsrUKM8HEEbRXGytA7NEzod+p+w3kpLUPko6637bpPqsdISI0tXqI6huYpiiGZzF3/bP+lAA+95CsWdavOnHJXq/Pa/NeER5nfxVZfOZi4PxRCqWzUrDeow1r4Bdn7shBXVmSmNJah9l/8S1Cgn4NF70aD72IAnYOaZ7uKS/rt17BRb0Ao79gLs/yOPhdD+JKFyzkMBmBHniJHDSRPWJqZh57M8JJEdNJdQTWB+xT+UrnPd0wDKKBxULCnLZOGF3UmDx1G5UrlvfMDS1shzwuMVFOD7B1IEFFYbSMqjKgeZHwWdo48fQ/0u5tGZg2o9X4BFFJtYXVC5G0Is+F6DZV0XP2RdVb/IQ4Ljr/hQQpE0csBcAgpi+tlpUIfx7dOdOSYmArMRKxMjkEdCzPO8aSCx/T6hcs4z9+FIbmpiNRwhSM4gVHpEReni7zwbpeu9H6dMyJzzbOraVhkron0yLVforPpLyqO3HMx9Q+otxK6L47/w2ip9e9PlgGZoZQHzJEzQTai+CaBjW5nMJYGFys18bL/dObznmft8T3lvB9XI9H1CZc1RibetKICN78LEsTd6ueG9n3iZrP0tzT5rU3lNI1TLr1U5KHpm/SXl0VsO5r4h9RZi1wVdG83KlnOt6HqKn11ov6vDzgMxbziHpqx9D0zxucRCNQ7T7xyEalym33dM03zrR2bMNKbhGC26QyaWiTSrZvA6VgpGhx4tVGL+aXq06ZeUx0ShUqafM2rrvt2Cyluxz6kLGsF56lBdr9+qQeV/H6x21NnNsaSGuXDOQaiO4PB/1eGL8qhDjUOoJmD+YV1N2nah+eccmkkoQkMn08XErzuZ7mnkas7k0VsceVBaGYUKZaD1VEyuZ5xMD9dRHUHnY40mqe11VGjGPMV7vLoOdT0Z3q7BvVkcwQjlSFEmNFEtRhTqJYWYcK/dn4Y1SsApY4W1L3EyPSGPiUKl8lhagp1P8vzuxy2a8PdOpp/i/3dLMHVrCwIqazH5XoaF62gui5+LMinh/b2O7ndf/P5Pcx6OuQyMX6h+BlC+YrwpclEd6uxCtQTVv+xX8Y1v8rAmzfKEmFBhE26/kMIiJ5GzChXiLE9Ye7kN68Y92yihEr+lrQQz14asTD89hmBXv/oX97wK+y11RynL5DiohmUi84ZiqK6TKFRIv1W1lic0X+Eo1ayrUXlMIVQCa3mCtYTCqQtBvwMNvTyB8iTexqpjSP9LPVqegKJ150kTum65MoXnTEJ1YQwVmYLgdgRhgmEnUi/PzoeilwnDnAEWqrHTh8P/lmC5Eqi1PcoEC9cSnRMsVMy/GBaq8+CkA3W9qh5HUvbq7HOChYr5F3M5hYphmN8KFiqGYQoPCxXDMIWHhYphmMLDQsUwTOFhoWIYpvCwUDEMU3hYqC6Sfjv0dGl9FsIwjEUuoTK/xSL3rrvR92KJkCuQX78w0fpmTXyP9nIPWqYbgF/OAA7/LEXeMD1fydJ3kKKM9SbK+skBdCxfVwzz7yezUJFXAsNVrHYdnNq9axGE6qQJ66Zr4wuhRY7sLG+XDlKoNqFJn+Lg9q0Ftf8uwNTVLQi/800Dr1pnLjkZhUq6BHb9PHVfZPDxUwShKgQ+TwI2UqiUK+IQ6ZM9k6sSFirmkpN9RNWPmym910swebduOVQbShqh+taEchilxBM55LQPnTebsEjuRiacSCUCdVxFQhGRSaoPTaGyRYIE4XYNgkZ0zsxqzY5mchJFTpHXO4DyqPswo6O43/uRcIj9enPFSOIXKgTL0HJ37HxbKNyv6GuRQJvXCs3fpDJkmOJw9sl07JD7NyfgnnK+lkiSUIlO7IkcYjqR6766ETqmGwwGKlLJDagpP0T995vYkSOnedL5mtFJfUKFHXzhsYpmIq45awS6VPcYi/Ay9D6UQ7cwGov2oGCabHlHVAgJ3bSKHtOFGuaNIrHgE2TwU13rZg2PKDwjqqQyZJgicUahkh4dp0RY9zFNpvvc3cKXKiyY5/zEzj/UJ7lyueuYp7bp5xGqP/aijo1QPvQokfygrygvlYpR5pTv96cdqP5hvt07q1BF5w5QXC0f4VTGxnm+vI4sQ4YpFmcSKtGRpq6uQ9P0053ESKGSHhzdAAKxTqS9SCqzRW/yuPytO0mdKFTOHJu5j6KdGPH1iBFCRec6IcAEo/Lgg9JJHFEhPwKoPtCmn94ShGpkGTJMscgtVNK3NTb+LCIlGINQiSCXk9e3IPiuxcg8Lv92I5mcRaj6b1djI64LFSosw3CO6rQNOyKo5tMAero4UoyoRpchwxSLXEIlRGrhygI26hyv90cKlTK5Rpp+Hr/ZFORSdzJ/BJqzCFWhTD8d0EC/9fPlIygnCFVSGTJMscguVBTGaRrWG/H4cHKeJCEKDQnVEux/sc8NzxedyppMD6Byq2RMpsuFkmGUl3BiewLW3spf5JpMHyVUqmOfZTKdItHkmkyP1lH1vgZQE9c101EhsXRY8zAyjPVW0I2sk1yGDFMkMgsVjUywQfs26nRJUWhIqHznG50+aXlCX76Ol8dFdJkmVFFIzHhwXWOpgVie0KgsnEGoEGd5QvlFWYYO9woVMmp5ApFWqMT5cpuaXfCuTKdIKzrazvVNqL+r4gjKDK3uRtZBUpQhwxSFM02m/1a4bzX/2ZPm6Hn7QmcYhoUqHR3Yv2YH7qRAlqvNdItcGYY5EyxUaekFsLMyJ02l0jSZk9bKdYZhzg0WKoZhCg8LFcMwhYeFimGYwsNCxTBM4WGhYhim8LBQMQxTeFioGIYpPCxUDMMUnlxCZUahmZoV34l1Qu+bael9dCLZPGlC1/1M5RfQ/3IA+2+76f2P5yHm9vcGrL00I/ckf/f3r+HzNszc3IPusfxQWn96qGk9xTJyvruE7zVYnliCWlaXQiO5nGX+S9prAcksVBSFZuKGE4WmBGtv039MIj62nTIi2WgPCZk8hebB4xKlsyu8EVRBOR0+B6QX1Mmr61BvS48T2sNB5BGioJ1mlCubnLSfTauIRUdQu+X6HmvDzqz4AHsTDg3vo+QPrOS4uzkzl1Oozr+9FpPMQkXeEx7bXunIh9RGyqgoxwdwb2IayoEzBqP9+IQ9z4ZzDh0vETGCwGvGRgNqv8zLbyJU5JIm8tMVazf0ofcSLONDyyyLVgVHWWnbV2p+o1Hsv4CxzFFRg1ttpjL/vG59CREUdAtqytGSFMQaNEUcO6Oz9Ft7sKZdmsyt2JFTRkRWibmnUS5fxOguNDVUx6x9PIjcpsyuQu2LcWenXWh43KMMa/DUyXxlc9qBRmULmuSKRXaa8lvTlcwNKL9Pd28CeR9VaOxKdy6UnxSRZshFzE3tUicy44eVl2B4Haj7eN2E9Wt43DHhBoebMGU4RRy837RGStQ2sKwOsT3NPNctRI68LCd/I90ADclDzK1NFdbxb3+96TQ+hNcRZVf9jKP/z9Vo2mPObRtp62gF5g0XROE3o6r9VRvGNYTbHuMamdsr4ro8au5iGkZ90nGdZ7dPFYQzC1X/izD95qDSSve8o47rzkF4kB2lBPd2mxB8bEFPmALtbXJ/vK9NqE/bsIzX1r7DEyOreEYI8YrHyrpWlg7lRPSYDRThcKgtY+qFDue0Qzw8x9/gZaAJs1H4kR0jMg+PoC0aUykygZLuje4Dy2vhcR3LK4AOtrXE8iAniJFXCG3G3/lLiYKnvEbXgbqPKytQfRdA0DoyRkHS86rly57S13NPMmYkCdKnLZjSrp/FKMz0Dy/OGRmlyJeHrPWm6yP6PUX2wetO3dqCwNxnmGFp60jnXU8B2N5a8X/XQaPRDiiN1O0VSz3BiSQ9PIz6LGo0otxCFT1xp2HtTfrJPTovrVBZw33Z0F3HbsFjrCg9I5sUWcXT8eIVv2A4nEPIrTCeI/xOkadM7DSf5SGJcw0L6Rk0rVDFO7HRQRPuje7D9euecA49NB7ao73e36uwsKHc18TKK6kOPPehEaa90eEkck6Kfn+K55ZU2ZM4qeu2hH/4MgRqxJTsqtqThx+qLFPXmzxm+d1XomDtc32Spakjx5c+CYWek6NrOC8NlAdXfT+Z2quqr1FuuWkU+wcKWzgiPYYOPujaoQP+YpB/RCUqBRVYPhXwKWEOzUeQaURldXDRkHEfVnxs079LiqwS63i+irePW/uo0xgufolRDT7biMpKg65r7Eu4N+s+NCPPkSIaD6RhECuPpDoYXhYif1OecghFTnSwcEogGn1RcNvQdB6WZ/O6njyQV1lXJIfn1XvMrQ+BWz556shMI1beAnnPun9laq/iPrC+XPfSVt/q42+EiSxM6I0q1D92bG+6BWEsc1RUeN55pzjD56j60HrlzFFZDVs2nrW/5RDV2lQDTIys4qlYynvaiqenVZYGj0eHzVHh2KfpzFGN6hhJ92bdh2L0OTmFCs8fXgfDykIESXVHNBJ6o4ejjOaLBWNeSt7P1NMPaMqYI7izCFU0KpMMy6vAc8ypD8Ipnzx1ZKURK2/BWYTKGLEaxPsWjuy+taH5ZlvOPYoQeFYeLp6MQqWGkkaDEsjho2N2DONbDRZxGF75ZBeefuv36FDujxemCiyK+6wzw8ZnVyjhRlbxVGymis9s+umhvZOmgN766bmApI6RfG/xTpB8Domo8zat36pB5ZWa74mVR1IdDCkLYSINe5Ap8+nOXeeNr9j/xwrc+8Pen9b0s9LKXG9J9aGwyidlHY3d9HPalrUvyfTDwcHrLagemnl2oyUVg8wjqmN8ApqTb3oyc9F46o2MQoO0dxdgSkx2fhq+jsqn+hRLcMJ2CVy7Pw1r9L47RWSVWDSWrBU/wHyJycq0k7KCY2g+xHu7VobGV1lmqdZR0XX1vuR7s+6DSFEeejK90THyZUyme8prdB34O3+0dsoHnkPmpH/+yoqmIxDlMjJKkS8P+SbTh9eHwmkbqerILDvVd0LhV9eYf1gPoxfRhP3sFrRytVfMFdbXzIjJ9B4OMuhNoX45ol6o6AFDUchl+nXfleMr0/VTNSkKDdGHTqMMd7Qtr14xm4s9fUIlOA6q4atx8ZrZWuGdGFklHo0la8W7yxPWXm6PeM2t0HMX9IrYU2ZpOkbCvVn3oUkRacZcnhD/ysATvQYZXgee+xABUjHd4W+R5FPfZx7TKnVPINc0yxNi9RFbVnIAFRw5+Ostj1AhaeroVhXq1vKEg+iLDEpvCap/2csTGkbZZW6viLU84cEe7DzEv8O+FV9SUUZRKxpjmaP6rQg7hILeUMU/BWEk7tqp3xnvw8TEJzzjwGqzchmI+eC5DLBQZQJNiP+WYLkSULDPaC3NNrRdAWMYh4sQqv77dWPtl14nFa09vCywUGXlRA7vhwcWZRg/FzKiclfLF3TleRIsVAzDFB4WKoZhCg8LFcMwhYeFimGYwsNCxTBM4WGhYhim8LBQMQxTeFioGIYpPGcUKhW4IMsiNXK5IRZLqq00DYsPqhCMc5FbSmgBnpkXsV1gRJxCI75XfLkHLf4WhrkAziRUMiKN6OBZhWoJ9r/IJf39Xgeaz5bII0M9UzikIR+fZkAK1SY0RT7U1vt6AOVrypOD+h2DnDRhvZT0sTnDnA/5heonCsXVaSg/Xs8hVPHfd1/cgMmbtXQ+rYhxCZUnDJOKhjLeOHIMw+Qlp1ANoFWZg6mND+SfaBxCJb9zMnyEj4joIQXGMNeM76fswKau2xKboUJFAS+VL2r1/ZWIDLIsXGVo9xinXWg+uS2/+RPmqxFNhNIdFW1EiWwsUgrec+uldgdTgpmbdgQSwbCoMZqkKD0tI0+x9E9aUF3BehVpO/fkPhjkPdYgMFyIzKzWjN8jIj0jistOgKPVLG2FYRT5hIoikWzCoWiU4xIq1RG0k7HECCpOxxGYETXEOccJTsC8QjU4sj0ikFBhR7tWhvrHAIKvouMfQ3O1BPN/NpUXhQ40HmIHX5VBEWS6I6KNqLzbkVKk+EfO3Y6g/UIEasWy0iO7pKgxVC/povRE6WuHdcJd8ER0T7027N9FE9jJsyVUeI8Lj9XvhRO4WTx/V8U/QSHfx/RiEVVYqJgcZBcq4QjtKnb+9+rROWahCl2gJkWUif2PDPCcvilKHvewBrKzidGAvQlnZU0tDiRUvkgfjkdKGoXhff1Q6Y5yOavybvmy9rrL7UPzIeZHjeJGR42RDuhMp3gCM0pP7PyfR9BC8e2SB03ME44OzTmowfcWBEFX/d4ub7pHx/00uQm+W5e+p6iMomCjxHl4B2B+CzILlZhLIpNP/X9eI6qkiB5ux5FIz6Gh6ae20UJlT6YP3Ld9ns5FPuKN9KNN/o7Sdd15WOl48k7l4gYgMNOSojs8GIMUGm++tLmKI7J7aKYJT55rT/agIUaexvV6f62gmAqTcBXKLw+gHQYpEHiEyrlHc583iAcLFZOTbEJF8dE8HUFvHtfBMYYJFTXiaI4qMaKMp7OTP3fy/6wf42lGVJ45KhNP56Lz0DRsnUQCZwpdz9OJf4lQYZqjovQQp2gSf21B4+UmuYKeulWFtnl8cAyd1gHsb4j5txIs77aHm34jhIqiy7gBP1iomJxkEyps5LFO8G4TO5habmCZakPwCpVajxW+9UuO6OHr7HE/655w4AbUsXIIlYzv5+lwSmQo3RSmnyVUaU2/oVFjkiLEdKH5fAvqbeNovxn5e//WhJ1K3RKt/jvxRleXTzahYtOPGSf5JtNNYsKTEIWGfm+so/rWhoaICGKto0oRQUVFKVnEJ76el6LJ4nAyOYo04ob30uQWqlMUUjHRbLl4LcPCdTR1MCsy3RHRRnxChUdik+lv1mlyPDaZPiRqTFKUHkpfjFLDPBsvKGi5CZbnU8fNcvjwyChU6mHDk+nMOBi/UCVFoaHfG+bilTlY9q1MTxFBpYdP/AUxL6MncMW81rNoycCdZwE0HuPfzihEQx0rj1AJMH8NvTxBzOvcLaPAyEOU7qhoI16hQjIuT4hHjRkVIQah8tF5wvOvr8K+CvhK/AhgRy9PEHl+sIfmrTqWWagQZ3lC+UVZvnBwy5JhEji7UDExfJ34t8SZb9PBRsWbUYbJAgvVOcBCJejA/jXbDKV1WWqtGcNkgYXqHGChUvQMUzK20p1h0sNCxTBM4WGhYhim8LBQMQxTeFioGIYpPCxUDMMUHhYqhmEKDwsVwzCFh4VKQ5/2RJ/T8FoohikOuYSKOjF9D2ZuCd/MafS3fkO+vxO0nspv1WLfwmUk7k1hBKOEiiOwMMyFkkuoyJPjn036Aj/ahsmOQ/hRsuMCRPPzAzxSDuAKI1QcgYVhLpRcQiUEwHV5mxoShBuweHMCFl/F0zhurMDk7DTMFEmoGIa5UHIIlXTQNswZXSJKEBpCkFwPkMqH0eKrWtwNyrcmlJXLEAoS+iyAY+vrfBW1JnSrUofqQ0eojDRiLlJGCpXPxQlHYGGYX0UOoZJeMxf/E/laml+pGn6LEiBBKEPQFyae49HyWw0WySR0/DUJn1Ai2oqK6qId0c2jCGlt6L8XHjTn4NG7Lpmi3Y9bsCxMSC1Ux01YK0XH+18PyOnc2ltlf2YVKrxvjsDCML+GHELVhfrKAo5omtDBTqgjC6c2k0gQZIcVk+ZROCaA9jMcgdD/tjDQnNj9A9s9yJeq9G1EF1VueJ/ZnjxN04/ScCbwe6+XIqd7WYWKI7AwzC8j1xxVDHKI5oSUGoYhVPBZdOhVaIrRmAjDNatj8JnCMCyogfkb+bcVfgqJhEoKmZzEdzYtRlmFyhFmcx9HYGGY8TIeoXI68khMocIxiQh6eQ+HHhT8QHRumnfKJ1TlgA6EREIl05h/jqbiiXhDaWw6DuAYhYojsDDMeMkuVCICSwk7tDmRTZ0wx4gKobd8N7egct98C2gLQ7LpJ4NvjjL9KIKLIy6Wq9wxChWbfgwzXrILFUVKjof+jjpumig0RoelMFHCDDM7sS0M1MmtyfQAKrdK2SbTKYJLCZYrRpSVxwuw+FzFrRunUKkRHE+mM8x4yGf6udFKTBezqaLQmB1WhcayRkyOUAkSlyegIWksFxB5alQWIqFC+l8OojRElJonKLY6jbEKFcIRWBhmbIxpjoqJ4YgoR2BhmPywUJ0LHIGFYcYJC9V5wRFYGGZssFAxDFN4WKgYhik8LFQMwxQeFiqGYQoPCxXDMIWHhYphmMLDQsUwTOFhoWIYpvDkF6qTDjSeKC+fxvd06ehDp1GGe3My2oz4dm9ZLIhM6yW0SHCEGoY5d/IJFXkimID5hzUIvh5B/6fan4oBtCpzMFlagspH5Rb4Wwuq91G0rm5BK1Nav55YwIhfEKEmds0z4vuommGKTA6hOobG/QmYeRxEgRGyQH7Rp6HyyXEDQz7UJ2DtbbG/Mxm3aKSBhYr53ckuVCQ0+d2VkJte4XhP/W8y6Pfh2IwPeNqF5pPbMCP8SrnfyylHdLWPB/DoujQhp2ZXofbFELrTPrReroauX+ZXtiEIvRdI1y3l1zgiMn2+m9/omS5s6Hpin950GdguYEhUHjehtavyLdJ48sF2SZM2Qs3QayLDyub0COriA+iND5GvrqAMM6Ksvsu8Ruk5rnQYpqBkFqrB+00y0Wq7URSaLB/ckrfOVE/zY2iuorhoB31iTuwhCoj2QKA68dS1MjS/KUd4G5j21SqoWDB4Lfy9dl53cgSt50swddV2dzx5ZQWq7wIIWkcwoOCnykHfzwEMjpXXAyMARXx04xEqLJN7r6TnhF67ivk0TMMcEWri10xRNiheNGpVjg7vGK6ceUTFXDYyCxU1cux4Uago6W0zrQsT6nRpOgm5892EQ3PO6ntNOp8ToyISKsf9MZ2jjpPnUOf4aYAjlxJUqM9LgbECQpwOaM5sYIx+3E6dSqisaDfSTfKUvGguN8WxayaVDdLDkasQ5fruDZi8uRc5CERYqJjLRj6hcgMXmNFkEoiNqMizJnZEvakOSSaiuT/cVIf2dW5zn/Dt7j1fi4otMBryAhqafmrLKlTWcXtfngg1bpqJZSNQJqCISu36smehYi4b+YTKbeQJHc2EIrSYwSHUKEaYL/u3sLOpDknXwRFBi47ZG414koSKBHAVGt+HnO8TKgpSOg1rr9vhnFLPud+zClWeCDVumpSnUWUjUCbm5MQcjiCNUSPSY6FiLhnZJ9N9pkuGEZUUAyNCcYgMiBB2SBoReTqv7ohJQvVD/O15u6jP9wmV4zddQEFKxyhUYzH9ksoG6b6QJt8hitKUs+yDhYq5bGQXKiEoYoJZTwarOaoZ7EhSEhKi0CCio0yVFiJXvSdH0Pm4B2tWWHR1nVtbENBkeR+678qwcB3NJpF0klBBHzv4HI481qHePqLze+0a3JvFURaJhEeo6I1mFO0mjGRjmGpkut6sQhuP+0ZmiUKVI0JN7JpJZfO9huUwBzsi02pkNV/R9aNHtZvQxOuHIzCGKTA5hArpd6C+cUPO46CpdOfJB+jpBp8UhUZxHFRh7aaKCIPiMHNtBcqNDvTNjoPXaehX8OI3d8UbPnUsUagQsWp8Vy9PQHG4vgr7LZ0vj1Ahx8E23JkVczvietsQ/F3Gv42J655aziCuQxPXWYUKyRqhJnZNZFjZoIjVUAitdW44ipsXwvVZ/f+zDfv/kfeo5/gZpsjkEyrmbLijGI5QwzAjYaH65XCEGobJCgvVRcARahgmEyxUDMMUHhYqhmEKDwsVwzCFh4WKYZjCw0LFMEzhYaFiGKbwsFAxDFN4WKgYhik8LFQMwxQeFiqGYQoPCxXDMAUH4P8Bz+H5+5YHkPwAAAAASUVORK5CYII=)"
      ]
    },
    {
      "cell_type": "markdown",
      "metadata": {
        "id": "q608Gag4Qfj9"
      },
      "source": [
        "----\r\n",
        "\r\n",
        "Downloading  \"Alice in wonderland\" novel to train the model\r\n",
        "\r\n",
        "----"
      ]
    },
    {
      "cell_type": "markdown",
      "metadata": {
        "id": "E-HNC54NhIFm"
      },
      "source": [
        "![alice pic roman.PNG](data:image/png;base64,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)"
      ]
    },
    {
      "cell_type": "code",
      "metadata": {
        "colab": {
          "base_uri": "https://localhost:8080/"
        },
        "id": "Yo2DRKPI5Oma",
        "outputId": "e7b71e45-9785-4dba-dc8e-48b0df515dd6"
      },
      "source": [
        "!wget https://gist.githubusercontent.com/phillipj/4944029/raw/75ba2243dd5ec2875f629bf5d79f6c1e4b5a8b46/alice_in_wonderland.txt"
      ],
      "execution_count": null,
      "outputs": [
        {
          "output_type": "stream",
          "text": [
            "--2020-12-17 22:50:31--  https://gist.githubusercontent.com/phillipj/4944029/raw/75ba2243dd5ec2875f629bf5d79f6c1e4b5a8b46/alice_in_wonderland.txt\n",
            "Resolving gist.githubusercontent.com (gist.githubusercontent.com)... 151.101.0.133, 151.101.64.133, 151.101.128.133, ...\n",
            "Connecting to gist.githubusercontent.com (gist.githubusercontent.com)|151.101.0.133|:443... connected.\n",
            "HTTP request sent, awaiting response... 200 OK\n",
            "Length: 148574 (145K) [text/plain]\n",
            "Saving to: ‘alice_in_wonderland.txt’\n",
            "\n",
            "alice_in_wonderland 100%[===================>] 145.09K  --.-KB/s    in 0.02s   \n",
            "\n",
            "2020-12-17 22:50:32 (6.51 MB/s) - ‘alice_in_wonderland.txt’ saved [148574/148574]\n",
            "\n"
          ],
          "name": "stdout"
        }
      ]
    },
    {
      "cell_type": "markdown",
      "metadata": {
        "id": "XembmTvxQ82o"
      },
      "source": [
        "----\r\n",
        "\r\n",
        "Using LSTM model for text generation \r\n",
        "\r\n",
        "----"
      ]
    },
    {
      "cell_type": "code",
      "metadata": {
        "colab": {
          "base_uri": "https://localhost:8080/"
        },
        "id": "eXm7K3m2XbXH",
        "outputId": "719a0285-14bb-4cb3-a1dd-5fc9bc6cc38b"
      },
      "source": [
        "from tensorflow.keras.preprocessing.sequence import pad_sequences\r\n",
        "from tensorflow.keras.layers import Embedding, LSTM, Dense, Dropout, Bidirectional\r\n",
        "from tensorflow.keras.preprocessing.text import Tokenizer\r\n",
        "from tensorflow.keras.models import Sequential\r\n",
        "from tensorflow.keras.optimizers import Adam\r\n",
        "from tensorflow.keras import regularizers\r\n",
        "import tensorflow.keras.utils as ku \r\n",
        "import numpy as np \r\n",
        " \r\n",
        " \r\n",
        "tokenizer = Tokenizer()\r\n",
        "data = open('alice_in_wonderland.txt').read()\r\n",
        " \r\n",
        "corpus = data.lower().split(\"\\n\")\r\n",
        "tokenizer.fit_on_texts(corpus)\r\n",
        "total_words = len(tokenizer.word_index) + 1\r\n",
        " \r\n",
        "# create input sequences using list of tokens\r\n",
        "input_sequences = []\r\n",
        "for line in corpus:\r\n",
        "    token_list = tokenizer.texts_to_sequences([line])[0]\r\n",
        "    for i in range(1, len(token_list)):\r\n",
        "        n_gram_sequence = token_list[:i+1]\r\n",
        "        input_sequences.append(n_gram_sequence)\r\n",
        " \r\n",
        " \r\n",
        "# pad sequences \r\n",
        "max_sequence_len = max([len(x) for x in input_sequences])\r\n",
        "input_sequences = np.array(pad_sequences(input_sequences, maxlen=max_sequence_len, padding='pre'))\r\n",
        " \r\n",
        "# create predictors and label\r\n",
        "predictors, label = input_sequences[:,:-1],input_sequences[:,-1]\r\n",
        " \r\n",
        "label = ku.to_categorical(label, num_classes=total_words)\r\n",
        "model = Sequential()\r\n",
        "model.add(Embedding(total_words, 100, input_length=max_sequence_len-1))\r\n",
        "model.add(Bidirectional(LSTM(150, return_sequences = True)))\r\n",
        "model.add(Dropout(0.2))\r\n",
        "model.add(LSTM(100))\r\n",
        "model.add(Dense(total_words/2, activation='relu', kernel_regularizer=regularizers.l2(0.01)))\r\n",
        "model.add(Dense(total_words, activation='softmax'))\r\n",
        "model.compile(loss='categorical_crossentropy', optimizer='adam', metrics=['accuracy'])\r\n",
        "print(model.summary())"
      ],
      "execution_count": null,
      "outputs": [
        {
          "output_type": "stream",
          "text": [
            "Model: \"sequential\"\n",
            "_________________________________________________________________\n",
            "Layer (type)                 Output Shape              Param #   \n",
            "=================================================================\n",
            "embedding (Embedding)        (None, 15, 100)           264700    \n",
            "_________________________________________________________________\n",
            "bidirectional (Bidirectional (None, 15, 300)           301200    \n",
            "_________________________________________________________________\n",
            "dropout (Dropout)            (None, 15, 300)           0         \n",
            "_________________________________________________________________\n",
            "lstm_1 (LSTM)                (None, 100)               160400    \n",
            "_________________________________________________________________\n",
            "dense (Dense)                (None, 1323)              133623    \n",
            "_________________________________________________________________\n",
            "dense_1 (Dense)              (None, 2647)              3504628   \n",
            "=================================================================\n",
            "Total params: 4,364,551\n",
            "Trainable params: 4,364,551\n",
            "Non-trainable params: 0\n",
            "_________________________________________________________________\n",
            "None\n"
          ],
          "name": "stdout"
        }
      ]
    },
    {
      "cell_type": "markdown",
      "metadata": {
        "id": "1IC2QHOdVEWo"
      },
      "source": [
        "----\r\n",
        "----"
      ]
    },
    {
      "cell_type": "markdown",
      "metadata": {
        "id": "oWoR9zOYRGQc"
      },
      "source": [
        "----\r\n",
        "\r\n",
        "Making the text \r\n",
        "\r\n",
        "\r\n",
        "----"
      ]
    },
    {
      "cell_type": "code",
      "metadata": {
        "colab": {
          "base_uri": "https://localhost:8080/"
        },
        "id": "8VRIfoUm5pQG",
        "outputId": "31fa3ca2-da89-47f3-9417-a386822c906a"
      },
      "source": [
        "history = model.fit(predictors, label, epochs=15, verbose=1)\r\n",
        "seed_text = \"alice was not a bit hurt\"\r\n",
        "next_words = 100\r\n",
        "   \r\n",
        "for _ in range(next_words):\r\n",
        "    token_list = tokenizer.texts_to_sequences([seed_text])[0]\r\n",
        "    token_list = pad_sequences([token_list], maxlen=max_sequence_len-1, padding='pre')\r\n",
        "    predicted = model.predict_classes(token_list, verbose=0)\r\n",
        "    output_word = \"\"\r\n",
        "    for word, index in tokenizer.word_index.items():\r\n",
        "        if index == predicted:\r\n",
        "            output_word = word\r\n",
        "            break\r\n",
        "    seed_text += \" \" + output_word\r\n",
        "print(seed_text)"
      ],
      "execution_count": null,
      "outputs": [
        {
          "output_type": "stream",
          "text": [
            "Epoch 1/15\n",
            "784/784 [==============================] - 89s 113ms/step - loss: 4.0598 - accuracy: 0.2182\n",
            "Epoch 2/15\n",
            "784/784 [==============================] - 89s 113ms/step - loss: 4.0046 - accuracy: 0.2238\n",
            "Epoch 3/15\n",
            "784/784 [==============================] - 89s 113ms/step - loss: 3.9558 - accuracy: 0.2295\n",
            "Epoch 4/15\n",
            "784/784 [==============================] - 88s 112ms/step - loss: 3.9097 - accuracy: 0.2329\n",
            "Epoch 5/15\n",
            "784/784 [==============================] - 89s 113ms/step - loss: 3.8632 - accuracy: 0.2399\n",
            "Epoch 6/15\n",
            "784/784 [==============================] - 89s 113ms/step - loss: 3.8204 - accuracy: 0.2427\n",
            "Epoch 7/15\n",
            "784/784 [==============================] - 88s 113ms/step - loss: 3.7742 - accuracy: 0.2517\n",
            "Epoch 8/15\n",
            "784/784 [==============================] - 89s 113ms/step - loss: 3.7370 - accuracy: 0.2521\n",
            "Epoch 9/15\n",
            "784/784 [==============================] - 89s 113ms/step - loss: 3.6951 - accuracy: 0.2567\n",
            "Epoch 10/15\n",
            "784/784 [==============================] - 88s 112ms/step - loss: 3.6554 - accuracy: 0.2613\n",
            "Epoch 11/15\n",
            "784/784 [==============================] - 89s 113ms/step - loss: 3.6150 - accuracy: 0.2663\n",
            "Epoch 12/15\n",
            "784/784 [==============================] - 89s 113ms/step - loss: 3.5681 - accuracy: 0.2760\n",
            "Epoch 13/15\n",
            "784/784 [==============================] - 89s 114ms/step - loss: 3.5291 - accuracy: 0.2773\n",
            "Epoch 14/15\n",
            "784/784 [==============================] - 89s 114ms/step - loss: 3.4867 - accuracy: 0.2833\n",
            "Epoch 15/15\n",
            "784/784 [==============================] - 88s 113ms/step - loss: 3.4452 - accuracy: 0.2901\n"
          ],
          "name": "stdout"
        },
        {
          "output_type": "stream",
          "text": [
            "/usr/local/lib/python3.6/dist-packages/tensorflow/python/keras/engine/sequential.py:450: UserWarning: `model.predict_classes()` is deprecated and will be removed after 2021-01-01. Please use instead:* `np.argmax(model.predict(x), axis=-1)`,   if your model does multi-class classification   (e.g. if it uses a `softmax` last-layer activation).* `(model.predict(x) > 0.5).astype(\"int32\")`,   if your model does binary classification   (e.g. if it uses a `sigmoid` last-layer activation).\n",
            "  warnings.warn('`model.predict_classes()` is deprecated and '\n"
          ],
          "name": "stderr"
        },
        {
          "output_type": "stream",
          "text": [
            "alice was not a bit hurt and she went on what ' said alice and she had been to herself ' the mock turtle and said the march hare and the mock see the mouse ' the mouse replied ' the king ' the king and ' the king and ' the king and ' the king ' the king and ' the king and ' the king and ' the king ' the king and ' the king and ' the king and ' the king ' the king and ' the king and ' the king and ' the king ' the king and\n"
          ],
          "name": "stdout"
        }
      ]
    },
    {
      "cell_type": "markdown",
      "metadata": {
        "id": "Rhv5H2W9ROYF"
      },
      "source": [
        "----\r\n",
        "\r\n",
        "The generated text : \r\n",
        "\r\n",
        "----"
      ]
    },
    {
      "cell_type": "code",
      "metadata": {
        "colab": {
          "base_uri": "https://localhost:8080/"
        },
        "id": "G-az23CP6SsW",
        "outputId": "add804de-3009-4a18-afb4-c3dc609be2b7"
      },
      "source": [
        "print(\"Original:\")\r\n",
        "print(\"alice was not a bit hurt\")\r\n",
        "print(\"Augmented Text:\")\r\n",
        "print(seed_text)"
      ],
      "execution_count": null,
      "outputs": [
        {
          "output_type": "stream",
          "text": [
            "Original:\n",
            "alice was not a bit hurt\n",
            "Augmented Text:\n",
            "alice was not a bit hurt and she went on what ' said alice and she had been to herself ' the mock turtle and said the march hare and the mock see the mouse ' the mouse replied ' the king ' the king and ' the king and ' the king and ' the king ' the king and ' the king and ' the king and ' the king ' the king and ' the king and ' the king and ' the king ' the king and ' the king and ' the king and ' the king ' the king and\n"
          ],
          "name": "stdout"
        }
      ]
    },
    {
      "cell_type": "markdown",
      "metadata": {
        "id": "gOLdHhxkgNcO"
      },
      "source": [
        "----\r\n",
        "----"
      ]
    },
    {
      "cell_type": "markdown",
      "metadata": {
        "id": "1SE-Hw3jS0fr"
      },
      "source": [
        "## Contextual Word Embeddings for Sentence Augmenter"
      ]
    },
    {
      "cell_type": "markdown",
      "metadata": {
        "id": "TxmoZ8l6ThDj"
      },
      "source": [
        "### Insert sentence by contextual word embeddings (XLNet)"
      ]
    },
    {
      "cell_type": "code",
      "metadata": {
        "id": "K9l9GFOAIAU2"
      },
      "source": [
        "import nlpaug.augmenter.sentence as nas"
      ],
      "execution_count": null,
      "outputs": []
    },
    {
      "cell_type": "code",
      "metadata": {
        "colab": {
          "base_uri": "https://localhost:8080/"
        },
        "id": "Zw8nIgrmGuIA",
        "outputId": "4b2d3315-7048-4aa1-b324-fa09f2742c28"
      },
      "source": [
        "# model_path: xlnet-base-cased or gpt2\r\n",
        "aug = nas.ContextualWordEmbsForSentenceAug(model_path='xlnet-base-cased')\r\n",
        "augmented_texts = aug.augment(text, n=3)\r\n",
        "print(\"Original:\")\r\n",
        "print(text)\r\n",
        "print(\"Augmented Texts:\")\r\n",
        "print(augmented_texts)"
      ],
      "execution_count": null,
      "outputs": [
        {
          "output_type": "stream",
          "text": [
            "Original:\n",
            "i have to go to the beach\n",
            "Augmented Texts:\n",
            "['i have to go to the beach ?', 'i have to go to the beach today so you are being rude or controlling this?', 'i have to go to the beach later this evening after relaxing around these things.']\n"
          ],
          "name": "stdout"
        }
      ]
    },
    {
      "cell_type": "markdown",
      "metadata": {
        "id": "uwO4q0owUPlE"
      },
      "source": [
        "----\r\n",
        "----"
      ]
    },
    {
      "cell_type": "markdown",
      "metadata": {
        "id": "y-D9d9JFTsoj"
      },
      "source": [
        "### Insert sentence by contextual word embeddings (GPT2)"
      ]
    },
    {
      "cell_type": "code",
      "metadata": {
        "colab": {
          "base_uri": "https://localhost:8080/"
        },
        "id": "tF6DcqvAH4gn",
        "outputId": "43f4c4e9-284a-41c5-cd99-4ae595b93349"
      },
      "source": [
        "aug = nas.ContextualWordEmbsForSentenceAug(model_path='gpt2')\r\n",
        "augmented_text = aug.augment(text)\r\n",
        "print(\"Original:\")\r\n",
        "print(text)\r\n",
        "print(\"Augmented Text:\")\r\n",
        "print(augmented_text)"
      ],
      "execution_count": null,
      "outputs": [
        {
          "output_type": "stream",
          "text": [
            "Original:\n",
            "i have to go to the beach\n",
            "Augmented Text:\n",
            "i have to go to the beach can .\n"
          ],
          "name": "stdout"
        }
      ]
    },
    {
      "cell_type": "markdown",
      "metadata": {
        "id": "fmpF5rRYUEx2"
      },
      "source": [
        "----\r\n",
        "----"
      ]
    },
    {
      "cell_type": "markdown",
      "metadata": {
        "id": "t9QrI6nXKNy-"
      },
      "source": [
        "## Abstractive Summarization Augmenter"
      ]
    },
    {
      "cell_type": "code",
      "metadata": {
        "colab": {
          "base_uri": "https://localhost:8080/"
        },
        "id": "7LXA-ZfsJUsk",
        "outputId": "aa947b0a-2d46-47f3-b8a5-895ef6f9d6b9"
      },
      "source": [
        "article = \"\"\"\r\n",
        "The history of natural language processing (NLP) generally started in the 1950s, although work can be \r\n",
        "found from earlier periods. In 1950, Alan Turing published an article titled \"Computing Machinery and \r\n",
        "Intelligence\" which proposed what is now called the Turing test as a criterion of intelligence. \r\n",
        "The Georgetown experiment in 1954 involved fully automatic translation of more than sixty Russian \r\n",
        "sentences into English. The authors claimed that within three or five years, machine translation would\r\n",
        "be a solved problem. However, real progress was much slower, and after the ALPAC report in 1966, \r\n",
        "which found that ten-year-long research had failed to fulfill the expectations, funding for machine \r\n",
        "translation was dramatically reduced.\r\n",
        "\"\"\"\r\n",
        "\r\n",
        "aug = nas.AbstSummAug(model_path='t5-base', num_beam=3)\r\n",
        "augmented_text = aug.augment(article)\r\n",
        "print(\"Original:\")\r\n",
        "print(article)\r\n",
        "print(\"Augmented Text:\")\r\n",
        "print(augmented_text)"
      ],
      "execution_count": null,
      "outputs": [
        {
          "output_type": "stream",
          "text": [
            "Original:\n",
            "\n",
            "The history of natural language processing (NLP) generally started in the 1950s, although work can be \n",
            "found from earlier periods. In 1950, Alan Turing published an article titled \"Computing Machinery and \n",
            "Intelligence\" which proposed what is now called the Turing test as a criterion of intelligence. \n",
            "The Georgetown experiment in 1954 involved fully automatic translation of more than sixty Russian \n",
            "sentences into English. The authors claimed that within three or five years, machine translation would\n",
            "be a solved problem. However, real progress was much slower, and after the ALPAC report in 1966, \n",
            "which found that ten-year-long research had failed to fulfill the expectations, funding for machine \n",
            "translation was dramatically reduced.\n",
            "\n",
            "Augmented Text:\n",
            "the history of natural language processing (NLP) generally started in the 1950s. in 1950, Alan Turing published an article titled \"Computing Machinery and Intelligence\" in 1954, the Georgetown experiment involved fully automatic translation of more than sixty Russian sentences into english. real progress was much slower, and after the ALPAC report in 1966, funding for machine translation was dramatically reduced.\n"
          ],
          "name": "stdout"
        }
      ]
    },
    {
      "cell_type": "markdown",
      "metadata": {
        "id": "xoSGikVBhDq1"
      },
      "source": [
        "# Character Augmentation : \r\n",
        "\r\n"
      ]
    },
    {
      "cell_type": "markdown",
      "metadata": {
        "id": "hsb3TXbQhRps"
      },
      "source": [
        "## OCR Augmenter"
      ]
    },
    {
      "cell_type": "code",
      "metadata": {
        "id": "Ig8AQ72ZhaJI"
      },
      "source": [
        "import nlpaug.augmenter.char as nac"
      ],
      "execution_count": null,
      "outputs": []
    },
    {
      "cell_type": "code",
      "metadata": {
        "colab": {
          "base_uri": "https://localhost:8080/"
        },
        "id": "JwaNqKFJhNQK",
        "outputId": "91ccbaed-735b-48fc-826d-872e9a84c9d8"
      },
      "source": [
        "aug = nac.OcrAug()\r\n",
        "augmented_texts = aug.augment(text, n=3)\r\n",
        "print(\"Original:\")\r\n",
        "print(text)\r\n",
        "print(\"Augmented Texts:\")\r\n",
        "print(augmented_texts)"
      ],
      "execution_count": null,
      "outputs": [
        {
          "output_type": "stream",
          "text": [
            "Original:\n",
            "i have to go to the beach\n",
            "Augmented Texts:\n",
            "['i have tu go to the beach', 'i have tu go to the beach', 'i have to g0 to the beach']\n"
          ],
          "name": "stdout"
        }
      ]
    },
    {
      "cell_type": "markdown",
      "metadata": {
        "id": "10QsK3sXiCnH"
      },
      "source": [
        "## Random Augmenter"
      ]
    },
    {
      "cell_type": "markdown",
      "metadata": {
        "id": "xrxWb5TUiMrm"
      },
      "source": [
        "Insert character randomly"
      ]
    },
    {
      "cell_type": "code",
      "metadata": {
        "colab": {
          "base_uri": "https://localhost:8080/"
        },
        "id": "duJm6lBvhcP-",
        "outputId": "4ac9d5af-f991-4297-80c4-a3fbc6f6eac9"
      },
      "source": [
        "aug = nac.RandomCharAug(action=\"insert\")\r\n",
        "augmented_text = aug.augment(text)\r\n",
        "print(\"Original:\")\r\n",
        "print(text)\r\n",
        "print(\"Augmented Text:\")\r\n",
        "print(augmented_text)"
      ],
      "execution_count": null,
      "outputs": [
        {
          "output_type": "stream",
          "text": [
            "Original:\n",
            "i have to go to the beach\n",
            "Augmented Text:\n",
            "i xhave to go to the becach\n"
          ],
          "name": "stdout"
        }
      ]
    },
    {
      "cell_type": "markdown",
      "metadata": {
        "id": "JCtLRd91iQ9T"
      },
      "source": [
        "Substitute character randomly"
      ]
    },
    {
      "cell_type": "code",
      "metadata": {
        "colab": {
          "base_uri": "https://localhost:8080/"
        },
        "id": "pDTB99stiKBJ",
        "outputId": "42d0b603-680e-4f83-bad8-32a1587ef7e9"
      },
      "source": [
        "aug = nac.RandomCharAug(action=\"substitute\")\r\n",
        "augmented_text = aug.augment(text)\r\n",
        "print(\"Original:\")\r\n",
        "print(text)\r\n",
        "print(\"Augmented Text:\")\r\n",
        "print(augmented_text)"
      ],
      "execution_count": null,
      "outputs": [
        {
          "output_type": "stream",
          "text": [
            "Original:\n",
            "i have to go to the beach\n",
            "Augmented Text:\n",
            "i Kave to go to the Zeach\n"
          ],
          "name": "stdout"
        }
      ]
    },
    {
      "cell_type": "markdown",
      "metadata": {
        "id": "Z2nqTliRijd-"
      },
      "source": [
        "Swap character randomly"
      ]
    },
    {
      "cell_type": "code",
      "metadata": {
        "colab": {
          "base_uri": "https://localhost:8080/"
        },
        "id": "JEM9bGlEichz",
        "outputId": "e0a4ac3e-565a-4787-b04f-8a5e40fbbae5"
      },
      "source": [
        "aug = nac.RandomCharAug(action=\"swap\")\r\n",
        "augmented_text = aug.augment(text)\r\n",
        "print(\"Original:\")\r\n",
        "print(text)\r\n",
        "print(\"Augmented Text:\")\r\n",
        "print(augmented_text)"
      ],
      "execution_count": null,
      "outputs": [
        {
          "output_type": "stream",
          "text": [
            "Original:\n",
            "i have to go to the beach\n",
            "Augmented Text:\n",
            "i hvae to go to the becah\n"
          ],
          "name": "stdout"
        }
      ]
    },
    {
      "cell_type": "markdown",
      "metadata": {
        "id": "tqBeh-fgioOY"
      },
      "source": [
        "Delete character randomly"
      ]
    },
    {
      "cell_type": "code",
      "metadata": {
        "colab": {
          "base_uri": "https://localhost:8080/"
        },
        "id": "l1cX2NLpirWA",
        "outputId": "2d23f080-7adf-41a0-ad95-d325ff338950"
      },
      "source": [
        "aug = nac.RandomCharAug(action=\"delete\")\r\n",
        "augmented_text = aug.augment(text)\r\n",
        "print(\"Original:\")\r\n",
        "print(text)\r\n",
        "print(\"Augmented Text:\")\r\n",
        "print(augmented_text)"
      ],
      "execution_count": null,
      "outputs": [
        {
          "output_type": "stream",
          "text": [
            "Original:\n",
            "i have to go to the beach\n",
            "Augmented Text:\n",
            "i ave to go to the bech\n"
          ],
          "name": "stdout"
        }
      ]
    },
    {
      "cell_type": "code",
      "metadata": {
        "id": "Iuw9an3Kiyx2"
      },
      "source": [
        ""
      ],
      "execution_count": null,
      "outputs": []
    }
  ]
}